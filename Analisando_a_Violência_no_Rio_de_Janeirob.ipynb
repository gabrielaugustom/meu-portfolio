{
  "nbformat": 4,
  "nbformat_minor": 0,
  "metadata": {
    "colab": {
      "name": "Analisando a Violência no Rio de Janeirob.ipynb",
      "provenance": [],
      "collapsed_sections": [],
      "toc_visible": true,
      "include_colab_link": true
    },
    "kernelspec": {
      "name": "python3",
      "display_name": "Python 3"
    }
  },
  "cells": [
    {
      "cell_type": "markdown",
      "metadata": {
        "id": "view-in-github",
        "colab_type": "text"
      },
      "source": [
        "<a href=\"https://colab.research.google.com/github/gabrielaugustom/meu-portfolio/blob/master/Analisando_a_Viol%C3%AAncia_no_Rio_de_Janeirob.ipynb\" target=\"_parent\"><img src=\"https://colab.research.google.com/assets/colab-badge.svg\" alt=\"Open In Colab\"/></a>"
      ]
    },
    {
      "cell_type": "markdown",
      "metadata": {
        "id": "kLI0gJtzDGuQ",
        "colab_type": "text"
      },
      "source": [
        "#1 Analisando a Violência no Rio de Janeiro\n",
        "\n",
        "O Estado do **Rio de Janeiro** é uma das 27 unidades federativas do **Brasil**. Possui 92 municípios e faz divisa com as unidades federativas: **São Paulo**, **Espiríto Santo**, **Minas Gerais** além do **Oceano Atlântico**.\n",
        "\n",
        "Conhecido e Reconhecido em todo o planeta por suas **beleza naturais** o Rio de Janeiro encanta sem muito esforço. Banhado por oceano, sempre com positivismo de um clima agradavel para curtir a praia com a familiares e os amigos.\n",
        "\n",
        "<center><img alt=\"Analisando Airbnb\" width=\"30%\" src=\"https://upload.wikimedia.org/wikipedia/commons/thumb/7/73/Bandeira_do_estado_do_Rio_de_Janeiro.svg/140px-Bandeira_do_estado_do_Rio_de_Janeiro.svg.png\"></center>\n",
        "\n",
        "Após esta breve apresentação sobre o Estado do Rio de Janeiro iremos analisar os dados que foram disponibilizados pelo **ISP - Instituto de Segurança Pública** onde atuaremos **analisando** a **Violência no Rio de Janeiro**\n",
        "\n",
        "Lamentavelmente o Estado do Rio de Janeiro dentre a grande parte dos brasileiros é lembrado pelo **alto índice de criminalidade** dado as organizações criminosas serem bem articuladas e organizadas. Vale salientar que o problema de criminalidade acontece em todo o **terrítorio nacional** e não somente no Estado em questão.\n",
        "\n",
        "\n",
        "<center><img alt=\"Analisando Airbnb\" width=\"30%\" src=\"https://diariodamanha.com/wp-content/uploads/2019/08/68678999_1559524180863229_3022861771779080192_n.jpg\"></center>\n",
        "\n",
        " \n",
        "Os dados estão sendo retirados por meio do portal [ISP Dados Abertos - RJ](http://www.ispdados.rj.gov.br/estatistica.html), aos quais analisaremos os índices fornecidos.\n",
        "\n",
        "* O arquivo `csv` se encontra no endereço abaixo:\n",
        "    * https://raw.githubusercontent.com/carlosfab/curso_data_science_na_pratica/master/modulo_02/violencia_rio.csv\n",
        "  * Este é o site oficial, do Governo do Estado do Rio de Janeiro:\n",
        "    * http://www.ispdados.rj.gov.br/estatistica.html\n",
        "  * Um *dashboard* interativo e visual pode ser encontrado no site abaixo:\n",
        "    * http://www.ispvisualizacao.rj.gov.br/index.html\n",
        "\n",
        "\n",
        "\n"
      ]
    },
    {
      "cell_type": "markdown",
      "metadata": {
        "id": "0zxQHhIUDF_2",
        "colab_type": "text"
      },
      "source": [
        "##1.1 Obtenção dos Dados\n",
        "\n",
        "Os dados obtidos aqui foram retirados diretamente do [Portal de Dados Abertos do ISP - Instituto de Segurança Pública do Estado do Rio de Janeiro.](http://www.ispdados.rj.gov.br/estatistica.html)\n",
        "\n",
        "\n",
        "As estatísticas aqui divulgadas são construídas a partir dos **Registros de Ocorrência (RO)** lavrados nas delegacias da Secretaria de Estado de Polícia Civil do Rio de Janeiro (SEPOL), além de informações complementares de órgãos específicos da **Secretaria de Estado de Polícia Militar do Rio de Janeiro (SEPM)**. Antes de serem consolidados no ISP, os RO são submetidos ao **controle de qualidade** realizado pela **Corregedoria Geral de Polícia (CGPOL)** da Secretaria de Estado de Polícia Civil. As estatísticas produzidas baseiam-se na data em que foi confeccionado o Registro de Ocorrência."
      ]
    },
    {
      "cell_type": "markdown",
      "metadata": {
        "id": "7vh4at0l90nr",
        "colab_type": "text"
      },
      "source": [
        "###1.2 Importando os dados\n",
        "\n",
        "Importe os dados, usando `df = pd.read_csv(\"endereço_do_csv\")`"
      ]
    },
    {
      "cell_type": "code",
      "metadata": {
        "id": "DirWj-YqEdpR",
        "colab_type": "code",
        "colab": {}
      },
      "source": [
        "# importar os pacotes necessarios\n",
        "import pandas as pd\n",
        "import matplotlib.pyplot as plt\n",
        "import seaborn as sns\n",
        "\n",
        "%matplotlib inline\n",
        "\n",
        "# importar o arquivo csv para um DataFrame\n",
        "df = pd.read_csv(\"https://raw.githubusercontent.com/carlosfab/curso_data_science_na_pratica/master/modulo_02/violencia_rio.csv\")"
      ],
      "execution_count": 0,
      "outputs": []
    },
    {
      "cell_type": "markdown",
      "metadata": {
        "id": "qb5By2nIMS6m",
        "colab_type": "text"
      },
      "source": [
        "#2 Análise Inicial dos Dados\n",
        "\n",
        "Dado então que foi importado o Pandas e feita a leitura do *arquivo CSV* a Análise de dará da seguinte maneira para que **haja melhor entendimento** dos dados adquiridos. \n",
        "\n",
        "* Importaremos os dados para o notebook\n",
        "* Analisaremos o tamanho do seu DataFrame\n",
        "* Quais são os tipos de variáveis que encontraremos neste arquivo. Isto para que facilite análise posterior dos dados.\n",
        "*  Para que seja de fácil entedimento disponibilizarei uma sessão contendo os 5 primeiras linhas e colunas deste *CSV*. \n",
        "* Distacaremos também a porcentagem de colunas com valores ausentes os quais sejam provável durante o trabalho que formem *outliers* e acabem furando nossa análise.\n",
        "\n",
        "Descreva e execute as seguintes etapas:\n",
        "\n",
        "* Qual o tamanho do seu DataFrame (`shape`)\n",
        "* Extrair e imprimir os nomes das colunas (`columns`)\n",
        "* Quais os tipos das variáveis (`dtypes`)\n",
        "* Visualizar as 5 primeiras linhas (`head`)\n",
        "* Identifique a porcentagem de valores ausentes das colunas\n"
      ]
    },
    {
      "cell_type": "code",
      "metadata": {
        "id": "GGj9MUQkFKER",
        "colab_type": "code",
        "outputId": "b3e9949d-0188-47db-d322-1d8ca7253aca",
        "colab": {
          "base_uri": "https://localhost:8080/",
          "height": 34
        }
      },
      "source": [
        "#tamanho do DataFrame\n",
        "df.shape"
      ],
      "execution_count": 0,
      "outputs": [
        {
          "output_type": "execute_result",
          "data": {
            "text/plain": [
              "(344, 56)"
            ]
          },
          "metadata": {
            "tags": []
          },
          "execution_count": 3
        }
      ]
    },
    {
      "cell_type": "markdown",
      "metadata": {
        "id": "M6lPsVCxiHb2",
        "colab_type": "text"
      },
      "source": [
        "Aqui identificamos que nosso DataFrame possui **344 linhas** e **56 colunas** das quais faremos nossa **análise exploratória**.\n",
        "\n",
        "Utilizando os comandos de df.columns e dtypes conseguimos identificar em sequencia: \n",
        "\n",
        "* As colunas\n",
        "* O tipo de dados representados nelas\n",
        "\n",
        "\n"
      ]
    },
    {
      "cell_type": "code",
      "metadata": {
        "colab_type": "code",
        "outputId": "6221af5e-0a34-444d-b1f3-69218e4f7ce2",
        "id": "qOyqCh6lIBzj",
        "colab": {
          "base_uri": "https://localhost:8080/",
          "height": 322
        }
      },
      "source": [
        "#tamanho de coluna\n",
        "df.columns"
      ],
      "execution_count": 0,
      "outputs": [
        {
          "output_type": "execute_result",
          "data": {
            "text/plain": [
              "Index(['vano', 'mes', 'hom_doloso', 'lesao_corp_morte', 'latrocinio',\n",
              "       'hom_por_interv_policial', 'tentat_hom', 'lesao_corp_dolosa', 'estupro',\n",
              "       'hom_culposo', 'lesao_corp_culposa', 'roubo_comercio',\n",
              "       'roubo_residencia', 'roubo_veiculo', 'roubo_carga', 'roubo_transeunte',\n",
              "       'roubo_em_coletivo', 'roubo_banco', 'roubo_cx_eletronico',\n",
              "       'roubo_celular', 'roubo_conducao_saque', 'roubo_apos_saque',\n",
              "       'roubo_bicicleta', 'outros_roubos', 'total_roubos', 'furto_veiculos',\n",
              "       'furto_transeunte', 'furto_coletivo', 'furto_celular',\n",
              "       'furto_bicicleta', 'outros_furtos', 'total_furtos', 'sequestro',\n",
              "       'extorsao', 'sequestro_relampago', 'estelionato', 'apreensao_drogas',\n",
              "       'posse_drogas', 'trafico_drogas', 'apreensao_drogas_sem_autor',\n",
              "       'recuperacao_veiculos', 'apf', 'aaapai', 'cmp', 'cmba', 'ameaca',\n",
              "       'pessoas_desaparecidas', 'encontro_cadaver', 'encontro_ossada',\n",
              "       'pol_militares_mortos_serv', 'pol_civis_mortos_serv',\n",
              "       'indicador_letalidade', 'indicador_roubo_rua', 'indicador_roubo_veic',\n",
              "       'registro_ocorrencias', 'fase'],\n",
              "      dtype='object')"
            ]
          },
          "metadata": {
            "tags": []
          },
          "execution_count": 4
        }
      ]
    },
    {
      "cell_type": "code",
      "metadata": {
        "id": "JlWZwwxgIJJ2",
        "colab_type": "code",
        "outputId": "78824543-a6b8-4307-92a7-db1070c1faa0",
        "colab": {
          "base_uri": "https://localhost:8080/",
          "height": 1000
        }
      },
      "source": [
        "#Quais os tipos das variáveis (dtypes)\n",
        "df.dtypes"
      ],
      "execution_count": 0,
      "outputs": [
        {
          "output_type": "execute_result",
          "data": {
            "text/plain": [
              "vano                            int64\n",
              "mes                             int64\n",
              "hom_doloso                      int64\n",
              "lesao_corp_morte              float64\n",
              "latrocinio                      int64\n",
              "hom_por_interv_policial       float64\n",
              "tentat_hom                      int64\n",
              "lesao_corp_dolosa               int64\n",
              "estupro                       float64\n",
              "hom_culposo                   float64\n",
              "lesao_corp_culposa            float64\n",
              "roubo_comercio                  int64\n",
              "roubo_residencia                int64\n",
              "roubo_veiculo                   int64\n",
              "roubo_carga                     int64\n",
              "roubo_transeunte                int64\n",
              "roubo_em_coletivo               int64\n",
              "roubo_banco                     int64\n",
              "roubo_cx_eletronico           float64\n",
              "roubo_celular                 float64\n",
              "roubo_conducao_saque          float64\n",
              "roubo_apos_saque              float64\n",
              "roubo_bicicleta               float64\n",
              "outros_roubos                   int64\n",
              "total_roubos                    int64\n",
              "furto_veiculos                  int64\n",
              "furto_transeunte                int64\n",
              "furto_coletivo                float64\n",
              "furto_celular                 float64\n",
              "furto_bicicleta               float64\n",
              "outros_furtos                   int64\n",
              "total_furtos                    int64\n",
              "sequestro                     float64\n",
              "extorsao                      float64\n",
              "sequestro_relampago           float64\n",
              "estelionato                   float64\n",
              "apreensao_drogas                int64\n",
              "posse_drogas                  float64\n",
              "trafico_drogas                float64\n",
              "apreensao_drogas_sem_autor    float64\n",
              "recuperacao_veiculos            int64\n",
              "apf                           float64\n",
              "aaapai                        float64\n",
              "cmp                           float64\n",
              "cmba                          float64\n",
              "ameaca                        float64\n",
              "pessoas_desaparecidas         float64\n",
              "encontro_cadaver                int64\n",
              "encontro_ossada               float64\n",
              "pol_militares_mortos_serv     float64\n",
              "pol_civis_mortos_serv         float64\n",
              "indicador_letalidade            int64\n",
              "indicador_roubo_rua             int64\n",
              "indicador_roubo_veic            int64\n",
              "registro_ocorrencias          float64\n",
              "fase                            int64\n",
              "dtype: object"
            ]
          },
          "metadata": {
            "tags": []
          },
          "execution_count": 5
        }
      ]
    },
    {
      "cell_type": "markdown",
      "metadata": {
        "id": "3YQq-nz0WCaj",
        "colab_type": "text"
      },
      "source": [
        "##Análise dos primeiros e últimos dados.\n",
        "\n",
        "Para nos ajudar a começar a visualizar como estão dispostos os dados. Utilizando os seguintes comandos consigo visualizar como estão dispostos as primeiros **5 linhas e colunas** de nosso projeto bem como **5 últimas linhas e colunas**.\n",
        "\n",
        "Com isso, podemos identificar por exemplo que:\n",
        "\n",
        "O **dataset vai do ano de 1991 até 2019.**\n"
      ]
    },
    {
      "cell_type": "code",
      "metadata": {
        "id": "qaEaHVEsIRAI",
        "colab_type": "code",
        "outputId": "f0b9aca4-f357-4605-a807-4658737f28e9",
        "colab": {
          "base_uri": "https://localhost:8080/",
          "height": 209
        }
      },
      "source": [
        "#Visualizar as 5 primeiras linhas (head)\n",
        "df.head()"
      ],
      "execution_count": 0,
      "outputs": [
        {
          "output_type": "execute_result",
          "data": {
            "text/html": [
              "<div>\n",
              "<style scoped>\n",
              "    .dataframe tbody tr th:only-of-type {\n",
              "        vertical-align: middle;\n",
              "    }\n",
              "\n",
              "    .dataframe tbody tr th {\n",
              "        vertical-align: top;\n",
              "    }\n",
              "\n",
              "    .dataframe thead th {\n",
              "        text-align: right;\n",
              "    }\n",
              "</style>\n",
              "<table border=\"1\" class=\"dataframe\">\n",
              "  <thead>\n",
              "    <tr style=\"text-align: right;\">\n",
              "      <th></th>\n",
              "      <th>vano</th>\n",
              "      <th>mes</th>\n",
              "      <th>hom_doloso</th>\n",
              "      <th>lesao_corp_morte</th>\n",
              "      <th>latrocinio</th>\n",
              "      <th>hom_por_interv_policial</th>\n",
              "      <th>tentat_hom</th>\n",
              "      <th>lesao_corp_dolosa</th>\n",
              "      <th>estupro</th>\n",
              "      <th>hom_culposo</th>\n",
              "      <th>lesao_corp_culposa</th>\n",
              "      <th>roubo_comercio</th>\n",
              "      <th>roubo_residencia</th>\n",
              "      <th>roubo_veiculo</th>\n",
              "      <th>roubo_carga</th>\n",
              "      <th>roubo_transeunte</th>\n",
              "      <th>roubo_em_coletivo</th>\n",
              "      <th>roubo_banco</th>\n",
              "      <th>roubo_cx_eletronico</th>\n",
              "      <th>roubo_celular</th>\n",
              "      <th>roubo_conducao_saque</th>\n",
              "      <th>roubo_apos_saque</th>\n",
              "      <th>roubo_bicicleta</th>\n",
              "      <th>outros_roubos</th>\n",
              "      <th>total_roubos</th>\n",
              "      <th>furto_veiculos</th>\n",
              "      <th>furto_transeunte</th>\n",
              "      <th>furto_coletivo</th>\n",
              "      <th>furto_celular</th>\n",
              "      <th>furto_bicicleta</th>\n",
              "      <th>outros_furtos</th>\n",
              "      <th>total_furtos</th>\n",
              "      <th>sequestro</th>\n",
              "      <th>extorsao</th>\n",
              "      <th>sequestro_relampago</th>\n",
              "      <th>estelionato</th>\n",
              "      <th>apreensao_drogas</th>\n",
              "      <th>posse_drogas</th>\n",
              "      <th>trafico_drogas</th>\n",
              "      <th>apreensao_drogas_sem_autor</th>\n",
              "      <th>recuperacao_veiculos</th>\n",
              "      <th>apf</th>\n",
              "      <th>aaapai</th>\n",
              "      <th>cmp</th>\n",
              "      <th>cmba</th>\n",
              "      <th>ameaca</th>\n",
              "      <th>pessoas_desaparecidas</th>\n",
              "      <th>encontro_cadaver</th>\n",
              "      <th>encontro_ossada</th>\n",
              "      <th>pol_militares_mortos_serv</th>\n",
              "      <th>pol_civis_mortos_serv</th>\n",
              "      <th>indicador_letalidade</th>\n",
              "      <th>indicador_roubo_rua</th>\n",
              "      <th>indicador_roubo_veic</th>\n",
              "      <th>registro_ocorrencias</th>\n",
              "      <th>fase</th>\n",
              "    </tr>\n",
              "  </thead>\n",
              "  <tbody>\n",
              "    <tr>\n",
              "      <th>0</th>\n",
              "      <td>1991</td>\n",
              "      <td>1</td>\n",
              "      <td>657</td>\n",
              "      <td>NaN</td>\n",
              "      <td>15</td>\n",
              "      <td>NaN</td>\n",
              "      <td>162</td>\n",
              "      <td>3051</td>\n",
              "      <td>NaN</td>\n",
              "      <td>NaN</td>\n",
              "      <td>NaN</td>\n",
              "      <td>350</td>\n",
              "      <td>188</td>\n",
              "      <td>1174</td>\n",
              "      <td>63</td>\n",
              "      <td>967</td>\n",
              "      <td>381</td>\n",
              "      <td>37</td>\n",
              "      <td>NaN</td>\n",
              "      <td>NaN</td>\n",
              "      <td>NaN</td>\n",
              "      <td>NaN</td>\n",
              "      <td>NaN</td>\n",
              "      <td>158</td>\n",
              "      <td>3318</td>\n",
              "      <td>2009</td>\n",
              "      <td>1147</td>\n",
              "      <td>NaN</td>\n",
              "      <td>NaN</td>\n",
              "      <td>NaN</td>\n",
              "      <td>3561</td>\n",
              "      <td>6717</td>\n",
              "      <td>NaN</td>\n",
              "      <td>NaN</td>\n",
              "      <td>NaN</td>\n",
              "      <td>NaN</td>\n",
              "      <td>133</td>\n",
              "      <td>NaN</td>\n",
              "      <td>NaN</td>\n",
              "      <td>NaN</td>\n",
              "      <td>872</td>\n",
              "      <td>NaN</td>\n",
              "      <td>NaN</td>\n",
              "      <td>NaN</td>\n",
              "      <td>NaN</td>\n",
              "      <td>NaN</td>\n",
              "      <td>NaN</td>\n",
              "      <td>217</td>\n",
              "      <td>NaN</td>\n",
              "      <td>NaN</td>\n",
              "      <td>NaN</td>\n",
              "      <td>672</td>\n",
              "      <td>1348</td>\n",
              "      <td>1174</td>\n",
              "      <td>NaN</td>\n",
              "      <td>3</td>\n",
              "    </tr>\n",
              "    <tr>\n",
              "      <th>1</th>\n",
              "      <td>1991</td>\n",
              "      <td>2</td>\n",
              "      <td>732</td>\n",
              "      <td>NaN</td>\n",
              "      <td>17</td>\n",
              "      <td>NaN</td>\n",
              "      <td>175</td>\n",
              "      <td>3421</td>\n",
              "      <td>NaN</td>\n",
              "      <td>NaN</td>\n",
              "      <td>NaN</td>\n",
              "      <td>357</td>\n",
              "      <td>171</td>\n",
              "      <td>1097</td>\n",
              "      <td>64</td>\n",
              "      <td>963</td>\n",
              "      <td>432</td>\n",
              "      <td>35</td>\n",
              "      <td>NaN</td>\n",
              "      <td>NaN</td>\n",
              "      <td>NaN</td>\n",
              "      <td>NaN</td>\n",
              "      <td>NaN</td>\n",
              "      <td>142</td>\n",
              "      <td>3261</td>\n",
              "      <td>1850</td>\n",
              "      <td>1066</td>\n",
              "      <td>NaN</td>\n",
              "      <td>NaN</td>\n",
              "      <td>NaN</td>\n",
              "      <td>3309</td>\n",
              "      <td>6225</td>\n",
              "      <td>NaN</td>\n",
              "      <td>NaN</td>\n",
              "      <td>NaN</td>\n",
              "      <td>NaN</td>\n",
              "      <td>127</td>\n",
              "      <td>NaN</td>\n",
              "      <td>NaN</td>\n",
              "      <td>NaN</td>\n",
              "      <td>751</td>\n",
              "      <td>NaN</td>\n",
              "      <td>NaN</td>\n",
              "      <td>NaN</td>\n",
              "      <td>NaN</td>\n",
              "      <td>NaN</td>\n",
              "      <td>NaN</td>\n",
              "      <td>209</td>\n",
              "      <td>NaN</td>\n",
              "      <td>NaN</td>\n",
              "      <td>NaN</td>\n",
              "      <td>749</td>\n",
              "      <td>1395</td>\n",
              "      <td>1097</td>\n",
              "      <td>NaN</td>\n",
              "      <td>3</td>\n",
              "    </tr>\n",
              "    <tr>\n",
              "      <th>2</th>\n",
              "      <td>1991</td>\n",
              "      <td>3</td>\n",
              "      <td>713</td>\n",
              "      <td>NaN</td>\n",
              "      <td>25</td>\n",
              "      <td>NaN</td>\n",
              "      <td>216</td>\n",
              "      <td>3613</td>\n",
              "      <td>NaN</td>\n",
              "      <td>NaN</td>\n",
              "      <td>NaN</td>\n",
              "      <td>443</td>\n",
              "      <td>191</td>\n",
              "      <td>1265</td>\n",
              "      <td>71</td>\n",
              "      <td>963</td>\n",
              "      <td>422</td>\n",
              "      <td>43</td>\n",
              "      <td>NaN</td>\n",
              "      <td>NaN</td>\n",
              "      <td>NaN</td>\n",
              "      <td>NaN</td>\n",
              "      <td>NaN</td>\n",
              "      <td>131</td>\n",
              "      <td>3529</td>\n",
              "      <td>2084</td>\n",
              "      <td>1062</td>\n",
              "      <td>NaN</td>\n",
              "      <td>NaN</td>\n",
              "      <td>NaN</td>\n",
              "      <td>3573</td>\n",
              "      <td>6719</td>\n",
              "      <td>NaN</td>\n",
              "      <td>NaN</td>\n",
              "      <td>NaN</td>\n",
              "      <td>NaN</td>\n",
              "      <td>80</td>\n",
              "      <td>NaN</td>\n",
              "      <td>NaN</td>\n",
              "      <td>NaN</td>\n",
              "      <td>789</td>\n",
              "      <td>NaN</td>\n",
              "      <td>NaN</td>\n",
              "      <td>NaN</td>\n",
              "      <td>NaN</td>\n",
              "      <td>NaN</td>\n",
              "      <td>NaN</td>\n",
              "      <td>188</td>\n",
              "      <td>NaN</td>\n",
              "      <td>NaN</td>\n",
              "      <td>NaN</td>\n",
              "      <td>738</td>\n",
              "      <td>1385</td>\n",
              "      <td>1265</td>\n",
              "      <td>NaN</td>\n",
              "      <td>3</td>\n",
              "    </tr>\n",
              "    <tr>\n",
              "      <th>3</th>\n",
              "      <td>1991</td>\n",
              "      <td>4</td>\n",
              "      <td>634</td>\n",
              "      <td>NaN</td>\n",
              "      <td>20</td>\n",
              "      <td>NaN</td>\n",
              "      <td>200</td>\n",
              "      <td>3211</td>\n",
              "      <td>NaN</td>\n",
              "      <td>NaN</td>\n",
              "      <td>NaN</td>\n",
              "      <td>425</td>\n",
              "      <td>199</td>\n",
              "      <td>1415</td>\n",
              "      <td>81</td>\n",
              "      <td>1186</td>\n",
              "      <td>354</td>\n",
              "      <td>36</td>\n",
              "      <td>NaN</td>\n",
              "      <td>NaN</td>\n",
              "      <td>NaN</td>\n",
              "      <td>NaN</td>\n",
              "      <td>NaN</td>\n",
              "      <td>112</td>\n",
              "      <td>3808</td>\n",
              "      <td>2085</td>\n",
              "      <td>1195</td>\n",
              "      <td>NaN</td>\n",
              "      <td>NaN</td>\n",
              "      <td>NaN</td>\n",
              "      <td>3290</td>\n",
              "      <td>6570</td>\n",
              "      <td>NaN</td>\n",
              "      <td>NaN</td>\n",
              "      <td>NaN</td>\n",
              "      <td>NaN</td>\n",
              "      <td>133</td>\n",
              "      <td>NaN</td>\n",
              "      <td>NaN</td>\n",
              "      <td>NaN</td>\n",
              "      <td>787</td>\n",
              "      <td>NaN</td>\n",
              "      <td>NaN</td>\n",
              "      <td>NaN</td>\n",
              "      <td>NaN</td>\n",
              "      <td>NaN</td>\n",
              "      <td>NaN</td>\n",
              "      <td>140</td>\n",
              "      <td>NaN</td>\n",
              "      <td>NaN</td>\n",
              "      <td>NaN</td>\n",
              "      <td>654</td>\n",
              "      <td>1540</td>\n",
              "      <td>1415</td>\n",
              "      <td>NaN</td>\n",
              "      <td>3</td>\n",
              "    </tr>\n",
              "    <tr>\n",
              "      <th>4</th>\n",
              "      <td>1991</td>\n",
              "      <td>5</td>\n",
              "      <td>650</td>\n",
              "      <td>NaN</td>\n",
              "      <td>20</td>\n",
              "      <td>NaN</td>\n",
              "      <td>146</td>\n",
              "      <td>3051</td>\n",
              "      <td>NaN</td>\n",
              "      <td>NaN</td>\n",
              "      <td>NaN</td>\n",
              "      <td>553</td>\n",
              "      <td>231</td>\n",
              "      <td>1449</td>\n",
              "      <td>82</td>\n",
              "      <td>931</td>\n",
              "      <td>335</td>\n",
              "      <td>27</td>\n",
              "      <td>NaN</td>\n",
              "      <td>NaN</td>\n",
              "      <td>NaN</td>\n",
              "      <td>NaN</td>\n",
              "      <td>NaN</td>\n",
              "      <td>147</td>\n",
              "      <td>3755</td>\n",
              "      <td>2185</td>\n",
              "      <td>723</td>\n",
              "      <td>NaN</td>\n",
              "      <td>NaN</td>\n",
              "      <td>NaN</td>\n",
              "      <td>3546</td>\n",
              "      <td>6454</td>\n",
              "      <td>NaN</td>\n",
              "      <td>NaN</td>\n",
              "      <td>NaN</td>\n",
              "      <td>NaN</td>\n",
              "      <td>163</td>\n",
              "      <td>NaN</td>\n",
              "      <td>NaN</td>\n",
              "      <td>NaN</td>\n",
              "      <td>845</td>\n",
              "      <td>NaN</td>\n",
              "      <td>NaN</td>\n",
              "      <td>NaN</td>\n",
              "      <td>NaN</td>\n",
              "      <td>NaN</td>\n",
              "      <td>NaN</td>\n",
              "      <td>78</td>\n",
              "      <td>NaN</td>\n",
              "      <td>NaN</td>\n",
              "      <td>NaN</td>\n",
              "      <td>670</td>\n",
              "      <td>1266</td>\n",
              "      <td>1449</td>\n",
              "      <td>NaN</td>\n",
              "      <td>3</td>\n",
              "    </tr>\n",
              "  </tbody>\n",
              "</table>\n",
              "</div>"
            ],
            "text/plain": [
              "   vano  mes  hom_doloso  ...  indicador_roubo_veic  registro_ocorrencias  fase\n",
              "0  1991    1         657  ...                  1174                   NaN     3\n",
              "1  1991    2         732  ...                  1097                   NaN     3\n",
              "2  1991    3         713  ...                  1265                   NaN     3\n",
              "3  1991    4         634  ...                  1415                   NaN     3\n",
              "4  1991    5         650  ...                  1449                   NaN     3\n",
              "\n",
              "[5 rows x 56 columns]"
            ]
          },
          "metadata": {
            "tags": []
          },
          "execution_count": 6
        }
      ]
    },
    {
      "cell_type": "code",
      "metadata": {
        "id": "yiwLzJxkmcBg",
        "colab_type": "code",
        "outputId": "b41fb967-56b2-4584-ea4b-29bacd86444c",
        "colab": {
          "base_uri": "https://localhost:8080/",
          "height": 209
        }
      },
      "source": [
        "#Visualizar as 5 últimas linhas (tail)\n",
        "df.tail()"
      ],
      "execution_count": 0,
      "outputs": [
        {
          "output_type": "execute_result",
          "data": {
            "text/html": [
              "<div>\n",
              "<style scoped>\n",
              "    .dataframe tbody tr th:only-of-type {\n",
              "        vertical-align: middle;\n",
              "    }\n",
              "\n",
              "    .dataframe tbody tr th {\n",
              "        vertical-align: top;\n",
              "    }\n",
              "\n",
              "    .dataframe thead th {\n",
              "        text-align: right;\n",
              "    }\n",
              "</style>\n",
              "<table border=\"1\" class=\"dataframe\">\n",
              "  <thead>\n",
              "    <tr style=\"text-align: right;\">\n",
              "      <th></th>\n",
              "      <th>vano</th>\n",
              "      <th>mes</th>\n",
              "      <th>hom_doloso</th>\n",
              "      <th>lesao_corp_morte</th>\n",
              "      <th>latrocinio</th>\n",
              "      <th>hom_por_interv_policial</th>\n",
              "      <th>tentat_hom</th>\n",
              "      <th>lesao_corp_dolosa</th>\n",
              "      <th>estupro</th>\n",
              "      <th>hom_culposo</th>\n",
              "      <th>lesao_corp_culposa</th>\n",
              "      <th>roubo_comercio</th>\n",
              "      <th>roubo_residencia</th>\n",
              "      <th>roubo_veiculo</th>\n",
              "      <th>roubo_carga</th>\n",
              "      <th>roubo_transeunte</th>\n",
              "      <th>roubo_em_coletivo</th>\n",
              "      <th>roubo_banco</th>\n",
              "      <th>roubo_cx_eletronico</th>\n",
              "      <th>roubo_celular</th>\n",
              "      <th>roubo_conducao_saque</th>\n",
              "      <th>roubo_apos_saque</th>\n",
              "      <th>roubo_bicicleta</th>\n",
              "      <th>outros_roubos</th>\n",
              "      <th>total_roubos</th>\n",
              "      <th>furto_veiculos</th>\n",
              "      <th>furto_transeunte</th>\n",
              "      <th>furto_coletivo</th>\n",
              "      <th>furto_celular</th>\n",
              "      <th>furto_bicicleta</th>\n",
              "      <th>outros_furtos</th>\n",
              "      <th>total_furtos</th>\n",
              "      <th>sequestro</th>\n",
              "      <th>extorsao</th>\n",
              "      <th>sequestro_relampago</th>\n",
              "      <th>estelionato</th>\n",
              "      <th>apreensao_drogas</th>\n",
              "      <th>posse_drogas</th>\n",
              "      <th>trafico_drogas</th>\n",
              "      <th>apreensao_drogas_sem_autor</th>\n",
              "      <th>recuperacao_veiculos</th>\n",
              "      <th>apf</th>\n",
              "      <th>aaapai</th>\n",
              "      <th>cmp</th>\n",
              "      <th>cmba</th>\n",
              "      <th>ameaca</th>\n",
              "      <th>pessoas_desaparecidas</th>\n",
              "      <th>encontro_cadaver</th>\n",
              "      <th>encontro_ossada</th>\n",
              "      <th>pol_militares_mortos_serv</th>\n",
              "      <th>pol_civis_mortos_serv</th>\n",
              "      <th>indicador_letalidade</th>\n",
              "      <th>indicador_roubo_rua</th>\n",
              "      <th>indicador_roubo_veic</th>\n",
              "      <th>registro_ocorrencias</th>\n",
              "      <th>fase</th>\n",
              "    </tr>\n",
              "  </thead>\n",
              "  <tbody>\n",
              "    <tr>\n",
              "      <th>339</th>\n",
              "      <td>2019</td>\n",
              "      <td>4</td>\n",
              "      <td>360</td>\n",
              "      <td>1.0</td>\n",
              "      <td>11</td>\n",
              "      <td>124.0</td>\n",
              "      <td>466</td>\n",
              "      <td>5573</td>\n",
              "      <td>483.0</td>\n",
              "      <td>172.0</td>\n",
              "      <td>2182.0</td>\n",
              "      <td>502</td>\n",
              "      <td>124</td>\n",
              "      <td>3755</td>\n",
              "      <td>667</td>\n",
              "      <td>7031</td>\n",
              "      <td>1585</td>\n",
              "      <td>2</td>\n",
              "      <td>4.0</td>\n",
              "      <td>2424.0</td>\n",
              "      <td>10.0</td>\n",
              "      <td>82.0</td>\n",
              "      <td>23.0</td>\n",
              "      <td>2245</td>\n",
              "      <td>18454</td>\n",
              "      <td>1244</td>\n",
              "      <td>1519</td>\n",
              "      <td>607.0</td>\n",
              "      <td>1318.0</td>\n",
              "      <td>211.0</td>\n",
              "      <td>7633</td>\n",
              "      <td>12532</td>\n",
              "      <td>0.0</td>\n",
              "      <td>151.0</td>\n",
              "      <td>11.0</td>\n",
              "      <td>3260.0</td>\n",
              "      <td>1909</td>\n",
              "      <td>745.0</td>\n",
              "      <td>1021.0</td>\n",
              "      <td>187.0</td>\n",
              "      <td>2624</td>\n",
              "      <td>3128.0</td>\n",
              "      <td>497.0</td>\n",
              "      <td>1648.0</td>\n",
              "      <td>350.0</td>\n",
              "      <td>5310.0</td>\n",
              "      <td>408.0</td>\n",
              "      <td>22</td>\n",
              "      <td>3.0</td>\n",
              "      <td>1.0</td>\n",
              "      <td>0.0</td>\n",
              "      <td>496</td>\n",
              "      <td>11040</td>\n",
              "      <td>3755</td>\n",
              "      <td>67797.0</td>\n",
              "      <td>3</td>\n",
              "    </tr>\n",
              "    <tr>\n",
              "      <th>340</th>\n",
              "      <td>2019</td>\n",
              "      <td>5</td>\n",
              "      <td>345</td>\n",
              "      <td>2.0</td>\n",
              "      <td>15</td>\n",
              "      <td>172.0</td>\n",
              "      <td>478</td>\n",
              "      <td>4958</td>\n",
              "      <td>465.0</td>\n",
              "      <td>145.0</td>\n",
              "      <td>2304.0</td>\n",
              "      <td>514</td>\n",
              "      <td>93</td>\n",
              "      <td>3649</td>\n",
              "      <td>710</td>\n",
              "      <td>7332</td>\n",
              "      <td>1625</td>\n",
              "      <td>1</td>\n",
              "      <td>3.0</td>\n",
              "      <td>2427.0</td>\n",
              "      <td>9.0</td>\n",
              "      <td>87.0</td>\n",
              "      <td>7.0</td>\n",
              "      <td>2216</td>\n",
              "      <td>18673</td>\n",
              "      <td>1480</td>\n",
              "      <td>1475</td>\n",
              "      <td>715.0</td>\n",
              "      <td>1423.0</td>\n",
              "      <td>220.0</td>\n",
              "      <td>7711</td>\n",
              "      <td>13024</td>\n",
              "      <td>0.0</td>\n",
              "      <td>147.0</td>\n",
              "      <td>7.0</td>\n",
              "      <td>3498.0</td>\n",
              "      <td>2034</td>\n",
              "      <td>735.0</td>\n",
              "      <td>1133.0</td>\n",
              "      <td>199.0</td>\n",
              "      <td>2450</td>\n",
              "      <td>3169.0</td>\n",
              "      <td>527.0</td>\n",
              "      <td>1771.0</td>\n",
              "      <td>248.0</td>\n",
              "      <td>5068.0</td>\n",
              "      <td>390.0</td>\n",
              "      <td>20</td>\n",
              "      <td>1.0</td>\n",
              "      <td>0.0</td>\n",
              "      <td>0.0</td>\n",
              "      <td>534</td>\n",
              "      <td>11384</td>\n",
              "      <td>3649</td>\n",
              "      <td>68336.0</td>\n",
              "      <td>3</td>\n",
              "    </tr>\n",
              "    <tr>\n",
              "      <th>341</th>\n",
              "      <td>2019</td>\n",
              "      <td>6</td>\n",
              "      <td>332</td>\n",
              "      <td>3.0</td>\n",
              "      <td>8</td>\n",
              "      <td>153.0</td>\n",
              "      <td>436</td>\n",
              "      <td>4769</td>\n",
              "      <td>414.0</td>\n",
              "      <td>152.0</td>\n",
              "      <td>2481.0</td>\n",
              "      <td>382</td>\n",
              "      <td>85</td>\n",
              "      <td>3115</td>\n",
              "      <td>599</td>\n",
              "      <td>6077</td>\n",
              "      <td>1287</td>\n",
              "      <td>1</td>\n",
              "      <td>4.0</td>\n",
              "      <td>2187.0</td>\n",
              "      <td>19.0</td>\n",
              "      <td>83.0</td>\n",
              "      <td>9.0</td>\n",
              "      <td>1984</td>\n",
              "      <td>15832</td>\n",
              "      <td>1251</td>\n",
              "      <td>1443</td>\n",
              "      <td>630.0</td>\n",
              "      <td>1345.0</td>\n",
              "      <td>189.0</td>\n",
              "      <td>7224</td>\n",
              "      <td>12082</td>\n",
              "      <td>0.0</td>\n",
              "      <td>133.0</td>\n",
              "      <td>6.0</td>\n",
              "      <td>3029.0</td>\n",
              "      <td>1854</td>\n",
              "      <td>763.0</td>\n",
              "      <td>976.0</td>\n",
              "      <td>158.0</td>\n",
              "      <td>2041</td>\n",
              "      <td>2848.0</td>\n",
              "      <td>467.0</td>\n",
              "      <td>1585.0</td>\n",
              "      <td>233.0</td>\n",
              "      <td>4497.0</td>\n",
              "      <td>403.0</td>\n",
              "      <td>20</td>\n",
              "      <td>1.0</td>\n",
              "      <td>3.0</td>\n",
              "      <td>0.0</td>\n",
              "      <td>496</td>\n",
              "      <td>9551</td>\n",
              "      <td>3115</td>\n",
              "      <td>61202.0</td>\n",
              "      <td>3</td>\n",
              "    </tr>\n",
              "    <tr>\n",
              "      <th>342</th>\n",
              "      <td>2019</td>\n",
              "      <td>7</td>\n",
              "      <td>309</td>\n",
              "      <td>5.0</td>\n",
              "      <td>10</td>\n",
              "      <td>194.0</td>\n",
              "      <td>399</td>\n",
              "      <td>4740</td>\n",
              "      <td>402.0</td>\n",
              "      <td>140.0</td>\n",
              "      <td>2334.0</td>\n",
              "      <td>386</td>\n",
              "      <td>72</td>\n",
              "      <td>3198</td>\n",
              "      <td>691</td>\n",
              "      <td>6637</td>\n",
              "      <td>1208</td>\n",
              "      <td>1</td>\n",
              "      <td>0.0</td>\n",
              "      <td>2226.0</td>\n",
              "      <td>12.0</td>\n",
              "      <td>97.0</td>\n",
              "      <td>16.0</td>\n",
              "      <td>2110</td>\n",
              "      <td>16654</td>\n",
              "      <td>1353</td>\n",
              "      <td>1570</td>\n",
              "      <td>746.0</td>\n",
              "      <td>1391.0</td>\n",
              "      <td>230.0</td>\n",
              "      <td>7632</td>\n",
              "      <td>12922</td>\n",
              "      <td>0.0</td>\n",
              "      <td>135.0</td>\n",
              "      <td>12.0</td>\n",
              "      <td>3627.0</td>\n",
              "      <td>1861</td>\n",
              "      <td>709.0</td>\n",
              "      <td>996.0</td>\n",
              "      <td>187.0</td>\n",
              "      <td>2355</td>\n",
              "      <td>2907.0</td>\n",
              "      <td>490.0</td>\n",
              "      <td>1856.0</td>\n",
              "      <td>267.0</td>\n",
              "      <td>4678.0</td>\n",
              "      <td>400.0</td>\n",
              "      <td>32</td>\n",
              "      <td>7.0</td>\n",
              "      <td>0.0</td>\n",
              "      <td>0.0</td>\n",
              "      <td>518</td>\n",
              "      <td>10071</td>\n",
              "      <td>3198</td>\n",
              "      <td>65817.0</td>\n",
              "      <td>2</td>\n",
              "    </tr>\n",
              "    <tr>\n",
              "      <th>343</th>\n",
              "      <td>2019</td>\n",
              "      <td>8</td>\n",
              "      <td>318</td>\n",
              "      <td>1.0</td>\n",
              "      <td>6</td>\n",
              "      <td>170.0</td>\n",
              "      <td>457</td>\n",
              "      <td>4760</td>\n",
              "      <td>460.0</td>\n",
              "      <td>156.0</td>\n",
              "      <td>2437.0</td>\n",
              "      <td>433</td>\n",
              "      <td>103</td>\n",
              "      <td>3181</td>\n",
              "      <td>587</td>\n",
              "      <td>6452</td>\n",
              "      <td>1215</td>\n",
              "      <td>1</td>\n",
              "      <td>1.0</td>\n",
              "      <td>2245.0</td>\n",
              "      <td>9.0</td>\n",
              "      <td>98.0</td>\n",
              "      <td>17.0</td>\n",
              "      <td>1794</td>\n",
              "      <td>16136</td>\n",
              "      <td>1361</td>\n",
              "      <td>1568</td>\n",
              "      <td>674.0</td>\n",
              "      <td>1534.0</td>\n",
              "      <td>185.0</td>\n",
              "      <td>7280</td>\n",
              "      <td>12602</td>\n",
              "      <td>0.0</td>\n",
              "      <td>132.0</td>\n",
              "      <td>12.0</td>\n",
              "      <td>3546.0</td>\n",
              "      <td>1862</td>\n",
              "      <td>668.0</td>\n",
              "      <td>1067.0</td>\n",
              "      <td>171.0</td>\n",
              "      <td>2081</td>\n",
              "      <td>3114.0</td>\n",
              "      <td>476.0</td>\n",
              "      <td>2028.0</td>\n",
              "      <td>265.0</td>\n",
              "      <td>4662.0</td>\n",
              "      <td>367.0</td>\n",
              "      <td>27</td>\n",
              "      <td>8.0</td>\n",
              "      <td>2.0</td>\n",
              "      <td>0.0</td>\n",
              "      <td>495</td>\n",
              "      <td>9912</td>\n",
              "      <td>3181</td>\n",
              "      <td>65285.0</td>\n",
              "      <td>2</td>\n",
              "    </tr>\n",
              "  </tbody>\n",
              "</table>\n",
              "</div>"
            ],
            "text/plain": [
              "     vano  mes  hom_doloso  ...  indicador_roubo_veic  registro_ocorrencias  fase\n",
              "339  2019    4         360  ...                  3755               67797.0     3\n",
              "340  2019    5         345  ...                  3649               68336.0     3\n",
              "341  2019    6         332  ...                  3115               61202.0     3\n",
              "342  2019    7         309  ...                  3198               65817.0     2\n",
              "343  2019    8         318  ...                  3181               65285.0     2\n",
              "\n",
              "[5 rows x 56 columns]"
            ]
          },
          "metadata": {
            "tags": []
          },
          "execution_count": 7
        }
      ]
    },
    {
      "cell_type": "markdown",
      "metadata": {
        "id": "fsIq1wAnXl_F",
        "colab_type": "text"
      },
      "source": [
        "##Valores nulos no dataset\n",
        "\n",
        "Abaixo podemos ver em porcetagem quais tabelas tem valores ausentes total ou parcial. Geralmente representados por NaN na tabela."
      ]
    },
    {
      "cell_type": "code",
      "metadata": {
        "id": "zEAqxDUJcWGS",
        "colab_type": "code",
        "outputId": "673e5aea-5227-41a5-ee67-aa1a4c316b5b",
        "colab": {
          "base_uri": "https://localhost:8080/",
          "height": 1000
        }
      },
      "source": [
        "df.isnull().sum() / df.shape[0]"
      ],
      "execution_count": 0,
      "outputs": [
        {
          "output_type": "execute_result",
          "data": {
            "text/plain": [
              "vano                          0.000000\n",
              "mes                           0.000000\n",
              "hom_doloso                    0.000000\n",
              "lesao_corp_morte              0.279070\n",
              "latrocinio                    0.000000\n",
              "hom_por_interv_policial       0.244186\n",
              "tentat_hom                    0.000000\n",
              "lesao_corp_dolosa             0.000000\n",
              "estupro                       0.418605\n",
              "hom_culposo                   0.244186\n",
              "lesao_corp_culposa            0.279070\n",
              "roubo_comercio                0.000000\n",
              "roubo_residencia              0.000000\n",
              "roubo_veiculo                 0.000000\n",
              "roubo_carga                   0.000000\n",
              "roubo_transeunte              0.000000\n",
              "roubo_em_coletivo             0.000000\n",
              "roubo_banco                   0.000000\n",
              "roubo_cx_eletronico           0.418605\n",
              "roubo_celular                 0.313953\n",
              "roubo_conducao_saque          0.418605\n",
              "roubo_apos_saque              0.418605\n",
              "roubo_bicicleta               0.802326\n",
              "outros_roubos                 0.000000\n",
              "total_roubos                  0.000000\n",
              "furto_veiculos                0.000000\n",
              "furto_transeunte              0.000000\n",
              "furto_coletivo                0.418605\n",
              "furto_celular                 0.418605\n",
              "furto_bicicleta               0.802326\n",
              "outros_furtos                 0.000000\n",
              "total_furtos                  0.000000\n",
              "sequestro                     0.279070\n",
              "extorsao                      0.418605\n",
              "sequestro_relampago           0.418605\n",
              "estelionato                   0.418605\n",
              "apreensao_drogas              0.000000\n",
              "posse_drogas                  0.523256\n",
              "trafico_drogas                0.523256\n",
              "apreensao_drogas_sem_autor    0.523256\n",
              "recuperacao_veiculos          0.000000\n",
              "apf                           0.523256\n",
              "aaapai                        0.523256\n",
              "cmp                           0.523256\n",
              "cmba                          0.523256\n",
              "ameaca                        0.279070\n",
              "pessoas_desaparecidas         0.383721\n",
              "encontro_cadaver              0.000000\n",
              "encontro_ossada               0.383721\n",
              "pol_militares_mortos_serv     0.418605\n",
              "pol_civis_mortos_serv         0.418605\n",
              "indicador_letalidade          0.000000\n",
              "indicador_roubo_rua           0.000000\n",
              "indicador_roubo_veic          0.000000\n",
              "registro_ocorrencias          0.279070\n",
              "fase                          0.000000\n",
              "dtype: float64"
            ]
          },
          "metadata": {
            "tags": []
          },
          "execution_count": 8
        }
      ]
    },
    {
      "cell_type": "markdown",
      "metadata": {
        "id": "aINPmk3Djswm",
        "colab_type": "text"
      },
      "source": [
        "###2.1 O tipo de distribuição das variáveis\n",
        "\n",
        "Para que haja um melhor aproveitamento de nosso DataFrame é necessário que após realizada a consulta mostrando % porcentagem de valores ausentes, plotaremos o histograma para melhor visualizarmos a presença de outliers em nosso DataFrame\n",
        "\n"
      ]
    },
    {
      "cell_type": "code",
      "metadata": {
        "id": "th5iNVHk3zng",
        "colab_type": "code",
        "outputId": "47000b31-9cee-4b07-95c8-5fa18c303f17",
        "colab": {
          "base_uri": "https://localhost:8080/",
          "height": 1000
        }
      },
      "source": [
        "df.hist(bins=15, figsize=(30,20));\n",
        "\n",
        "plt.tight_layout()"
      ],
      "execution_count": 0,
      "outputs": [
        {
          "output_type": "display_data",
          "data": {
            "image/png": "[encoded data removed]",
            "text/plain": [
              "<Figure size 2160x1440 with 56 Axes>"
            ]
          },
          "metadata": {
            "tags": []
          }
        }
      ]
    },
    {
      "cell_type": "markdown",
      "metadata": {
        "id": "Pk2ehOSvnC3B",
        "colab_type": "text"
      },
      "source": [
        "###2.2 Preenchendo valores ausentes\n",
        "\n",
        "Dado que as váriaveis roubo_bicicleta e furto_bicicleta estão com 80% de seus valores faltantes e não são váriaveis categoricas afirmo que seja melhor neste caso preencher os valores faltantes utilizando a média dos valores presentes.\n",
        "\n",
        "Caso fosse uma váriavel categorica, adotaria como melhor decisão utilizar o preechimento da váriavel com o valor de maior índice da mesma.\n",
        "\n",
        "No caso da váriavel pol_militares_mortos_serv quis zerar os valores ausentes pois gostaria de visualizar com mais eficácia qual foi o máximo de policiais mortos em serviço bem como o total de policiais mortos em serviço durante o serviço em todos os anos contidos no DataFrame.\n"
      ]
    },
    {
      "cell_type": "code",
      "metadata": {
        "id": "8w4J-_Ipntto",
        "colab_type": "code",
        "outputId": "1f31201f-15c2-4ac7-dffd-0bcf6aef7ac2",
        "colab": {
          "base_uri": "https://localhost:8080/",
          "height": 34
        }
      },
      "source": [
        "# preencher valores ausentes em `furto_bicicleta` com a mediana\n",
        "furto_bicicleta_median = df.furto_bicicleta.median()\n",
        "df.furto_bicicleta.fillna(furto_bicicleta_median, inplace=True)\n",
        "\n",
        "# ver valores ausentes\n",
        "df.furto_bicicleta.isnull().sum()"
      ],
      "execution_count": 0,
      "outputs": [
        {
          "output_type": "execute_result",
          "data": {
            "text/plain": [
              "0"
            ]
          },
          "metadata": {
            "tags": []
          },
          "execution_count": 12
        }
      ]
    },
    {
      "cell_type": "code",
      "metadata": {
        "id": "qK8JFDSKqJt8",
        "colab_type": "code",
        "outputId": "dfd9b617-8cf1-4b76-aeee-f4d182fdb4b1",
        "colab": {
          "base_uri": "https://localhost:8080/",
          "height": 34
        }
      },
      "source": [
        "# preencher valores ausentes em `roubo_bicicleta` com a mediana\n",
        "roubo_bicicleta_median = df.roubo_bicicleta.median()\n",
        "df.roubo_bicicleta.fillna(roubo_bicicleta_median, inplace=True)\n",
        "\n",
        "# ver valores ausentes\n",
        "df.roubo_bicicleta.isnull().sum()"
      ],
      "execution_count": 0,
      "outputs": [
        {
          "output_type": "execute_result",
          "data": {
            "text/plain": [
              "0"
            ]
          },
          "metadata": {
            "tags": []
          },
          "execution_count": 13
        }
      ]
    },
    {
      "cell_type": "code",
      "metadata": {
        "id": "VT8I1k1Usjfg",
        "colab_type": "code",
        "outputId": "4d0ec65d-023c-4b0e-8caa-b4a344dd30c1",
        "colab": {
          "base_uri": "https://localhost:8080/",
          "height": 34
        }
      },
      "source": [
        "# preencher valores ausentes em 'pol_militares_mortos_serv' com a mediana\n",
        "\n",
        "pol_militares_mortos_serv_median = df.pol_militares_mortos_serv.median()\n",
        "df.pol_militares_mortos_serv.fillna(pol_militares_mortos_serv_median, inplace=True)\n",
        "\n",
        "# ver valores ausentes\n",
        "df.pol_militares_mortos_serv.isnull().sum()"
      ],
      "execution_count": 0,
      "outputs": [
        {
          "output_type": "execute_result",
          "data": {
            "text/plain": [
              "0"
            ]
          },
          "metadata": {
            "tags": []
          },
          "execution_count": 14
        }
      ]
    },
    {
      "cell_type": "markdown",
      "metadata": {
        "id": "G6dnsNYm-41g",
        "colab_type": "text"
      },
      "source": [
        "##2.3 Informações Estatísticas da Violência no Rio de Janeiro\n",
        "\n",
        "Todas as informações Estatísticas são referenciadas baseadas nas RO cadastradas. \n",
        "\n",
        "Uma das maneiras mais simples de se iniciar uma **análise exploratória** das variáveis numéricas é utilizando o **método describe()**.\n",
        "\n",
        "Imediatamente você obtém um resumo contendo algumas das principais informações estatísticas relevantes:\n",
        "\n",
        "* count - quantidade de entradas válidas\n",
        "* mean - média dos valores\n",
        "* std - desvio padrão\n",
        "* min - menor valor da coluna\n",
        "* 25% - percentil 25\n",
        "* 50% - percentil 50 (e mediana)\n",
        "* 75% - percentil 75\n",
        "* max - maior valor da coluna\n",
        "\n",
        "\n",
        "Descreva e execute as seguintes etapas:\n",
        "\n",
        "* Imprima o resumo estatístico do seu DataFrame (`describe`)\n",
        "* Encontre as médias das seguintes variáveis (colunas):\n",
        "  * `roubo_veiculo`\n",
        "  * `furto_veiculos`\n",
        "  * `recuperacao_veiculos`\n",
        "* Calcule qual a porcentagem de carros recuperados em relação aos carros roubados + carros furtados:\n",
        "  * $\\frac{\\text{recuperacao_veiculos}}{\\text{roubo_veiculo} + \\text{furto_veiculos}}$\n",
        "* Encontre os valores máximos (`max`) e mínimos (`min`) da coluna `hom_doloso`\n"
      ]
    },
    {
      "cell_type": "code",
      "metadata": {
        "id": "6AiYpYJ9PcW9",
        "colab_type": "code",
        "outputId": "8745cc61-e7d2-4789-c5b1-f8ac31849675",
        "colab": {
          "base_uri": "https://localhost:8080/",
          "height": 297
        }
      },
      "source": [
        "#resumo estatístico do Dataframe utilizando o describe\n",
        "df.describe()"
      ],
      "execution_count": 0,
      "outputs": [
        {
          "output_type": "execute_result",
          "data": {
            "text/html": [
              "<div>\n",
              "<style scoped>\n",
              "    .dataframe tbody tr th:only-of-type {\n",
              "        vertical-align: middle;\n",
              "    }\n",
              "\n",
              "    .dataframe tbody tr th {\n",
              "        vertical-align: top;\n",
              "    }\n",
              "\n",
              "    .dataframe thead th {\n",
              "        text-align: right;\n",
              "    }\n",
              "</style>\n",
              "<table border=\"1\" class=\"dataframe\">\n",
              "  <thead>\n",
              "    <tr style=\"text-align: right;\">\n",
              "      <th></th>\n",
              "      <th>vano</th>\n",
              "      <th>mes</th>\n",
              "      <th>hom_doloso</th>\n",
              "      <th>lesao_corp_morte</th>\n",
              "      <th>latrocinio</th>\n",
              "      <th>hom_por_interv_policial</th>\n",
              "      <th>tentat_hom</th>\n",
              "      <th>lesao_corp_dolosa</th>\n",
              "      <th>estupro</th>\n",
              "      <th>hom_culposo</th>\n",
              "      <th>lesao_corp_culposa</th>\n",
              "      <th>roubo_comercio</th>\n",
              "      <th>roubo_residencia</th>\n",
              "      <th>roubo_veiculo</th>\n",
              "      <th>roubo_carga</th>\n",
              "      <th>roubo_transeunte</th>\n",
              "      <th>roubo_em_coletivo</th>\n",
              "      <th>roubo_banco</th>\n",
              "      <th>roubo_cx_eletronico</th>\n",
              "      <th>roubo_celular</th>\n",
              "      <th>roubo_conducao_saque</th>\n",
              "      <th>roubo_apos_saque</th>\n",
              "      <th>roubo_bicicleta</th>\n",
              "      <th>outros_roubos</th>\n",
              "      <th>total_roubos</th>\n",
              "      <th>furto_veiculos</th>\n",
              "      <th>furto_transeunte</th>\n",
              "      <th>furto_coletivo</th>\n",
              "      <th>furto_celular</th>\n",
              "      <th>furto_bicicleta</th>\n",
              "      <th>outros_furtos</th>\n",
              "      <th>total_furtos</th>\n",
              "      <th>sequestro</th>\n",
              "      <th>extorsao</th>\n",
              "      <th>sequestro_relampago</th>\n",
              "      <th>estelionato</th>\n",
              "      <th>apreensao_drogas</th>\n",
              "      <th>posse_drogas</th>\n",
              "      <th>trafico_drogas</th>\n",
              "      <th>apreensao_drogas_sem_autor</th>\n",
              "      <th>recuperacao_veiculos</th>\n",
              "      <th>apf</th>\n",
              "      <th>aaapai</th>\n",
              "      <th>cmp</th>\n",
              "      <th>cmba</th>\n",
              "      <th>ameaca</th>\n",
              "      <th>pessoas_desaparecidas</th>\n",
              "      <th>encontro_cadaver</th>\n",
              "      <th>encontro_ossada</th>\n",
              "      <th>pol_militares_mortos_serv</th>\n",
              "      <th>pol_civis_mortos_serv</th>\n",
              "      <th>indicador_letalidade</th>\n",
              "      <th>indicador_roubo_rua</th>\n",
              "      <th>indicador_roubo_veic</th>\n",
              "      <th>registro_ocorrencias</th>\n",
              "      <th>fase</th>\n",
              "    </tr>\n",
              "  </thead>\n",
              "  <tbody>\n",
              "    <tr>\n",
              "      <th>count</th>\n",
              "      <td>344.000000</td>\n",
              "      <td>344.000000</td>\n",
              "      <td>344.000000</td>\n",
              "      <td>248.000000</td>\n",
              "      <td>344.000000</td>\n",
              "      <td>260.00000</td>\n",
              "      <td>344.000000</td>\n",
              "      <td>344.000000</td>\n",
              "      <td>200.000000</td>\n",
              "      <td>260.000000</td>\n",
              "      <td>248.000000</td>\n",
              "      <td>344.000000</td>\n",
              "      <td>344.000000</td>\n",
              "      <td>344.000000</td>\n",
              "      <td>344.000000</td>\n",
              "      <td>344.000000</td>\n",
              "      <td>344.000000</td>\n",
              "      <td>344.000000</td>\n",
              "      <td>200.000000</td>\n",
              "      <td>236.000000</td>\n",
              "      <td>200.000000</td>\n",
              "      <td>200.000000</td>\n",
              "      <td>68.000000</td>\n",
              "      <td>344.000000</td>\n",
              "      <td>344.000000</td>\n",
              "      <td>344.000000</td>\n",
              "      <td>344.000000</td>\n",
              "      <td>200.000000</td>\n",
              "      <td>200.000000</td>\n",
              "      <td>68.000000</td>\n",
              "      <td>344.000000</td>\n",
              "      <td>344.000000</td>\n",
              "      <td>248.000000</td>\n",
              "      <td>200.000000</td>\n",
              "      <td>200.000000</td>\n",
              "      <td>200.000000</td>\n",
              "      <td>344.000000</td>\n",
              "      <td>164.000000</td>\n",
              "      <td>164.000000</td>\n",
              "      <td>164.000000</td>\n",
              "      <td>344.000000</td>\n",
              "      <td>164.000000</td>\n",
              "      <td>164.000000</td>\n",
              "      <td>164.000000</td>\n",
              "      <td>164.000000</td>\n",
              "      <td>248.000000</td>\n",
              "      <td>212.000000</td>\n",
              "      <td>344.000000</td>\n",
              "      <td>212.000000</td>\n",
              "      <td>200.000000</td>\n",
              "      <td>200.00000</td>\n",
              "      <td>344.000000</td>\n",
              "      <td>344.000000</td>\n",
              "      <td>344.000000</td>\n",
              "      <td>248.000000</td>\n",
              "      <td>344.000000</td>\n",
              "    </tr>\n",
              "    <tr>\n",
              "      <th>mean</th>\n",
              "      <td>2004.837209</td>\n",
              "      <td>6.453488</td>\n",
              "      <td>504.555233</td>\n",
              "      <td>4.334677</td>\n",
              "      <td>15.668605</td>\n",
              "      <td>71.90000</td>\n",
              "      <td>318.267442</td>\n",
              "      <td>5492.799419</td>\n",
              "      <td>369.945000</td>\n",
              "      <td>212.119231</td>\n",
              "      <td>3410.762097</td>\n",
              "      <td>455.005814</td>\n",
              "      <td>133.284884</td>\n",
              "      <td>2448.697674</td>\n",
              "      <td>340.322674</td>\n",
              "      <td>3418.520349</td>\n",
              "      <td>659.002907</td>\n",
              "      <td>9.375000</td>\n",
              "      <td>3.550000</td>\n",
              "      <td>957.974576</td>\n",
              "      <td>11.320000</td>\n",
              "      <td>145.665000</td>\n",
              "      <td>10.808824</td>\n",
              "      <td>1211.223837</td>\n",
              "      <td>9428.119186</td>\n",
              "      <td>1674.671512</td>\n",
              "      <td>1518.921512</td>\n",
              "      <td>650.230000</td>\n",
              "      <td>1449.175000</td>\n",
              "      <td>124.808824</td>\n",
              "      <td>5994.328488</td>\n",
              "      <td>10433.177326</td>\n",
              "      <td>0.665323</td>\n",
              "      <td>133.265000</td>\n",
              "      <td>7.755000</td>\n",
              "      <td>2231.860000</td>\n",
              "      <td>1071.930233</td>\n",
              "      <td>609.237805</td>\n",
              "      <td>759.146341</td>\n",
              "      <td>186.146341</td>\n",
              "      <td>1772.238372</td>\n",
              "      <td>2319.585366</td>\n",
              "      <td>568.628049</td>\n",
              "      <td>1255.512195</td>\n",
              "      <td>83.042683</td>\n",
              "      <td>5530.326613</td>\n",
              "      <td>435.132075</td>\n",
              "      <td>66.261628</td>\n",
              "      <td>3.301887</td>\n",
              "      <td>2.085000</td>\n",
              "      <td>0.34000</td>\n",
              "      <td>577.691860</td>\n",
              "      <td>4734.738372</td>\n",
              "      <td>2448.697674</td>\n",
              "      <td>53794.161290</td>\n",
              "      <td>2.994186</td>\n",
              "    </tr>\n",
              "    <tr>\n",
              "      <th>std</th>\n",
              "      <td>8.289036</td>\n",
              "      <td>3.447759</td>\n",
              "      <td>113.774481</td>\n",
              "      <td>2.755357</td>\n",
              "      <td>5.861427</td>\n",
              "      <td>36.48882</td>\n",
              "      <td>127.606645</td>\n",
              "      <td>1514.220579</td>\n",
              "      <td>94.392434</td>\n",
              "      <td>54.234700</td>\n",
              "      <td>776.156561</td>\n",
              "      <td>119.765076</td>\n",
              "      <td>44.317963</td>\n",
              "      <td>789.689559</td>\n",
              "      <td>223.855243</td>\n",
              "      <td>2459.017549</td>\n",
              "      <td>297.622342</td>\n",
              "      <td>10.564894</td>\n",
              "      <td>2.634808</td>\n",
              "      <td>624.309034</td>\n",
              "      <td>6.404113</td>\n",
              "      <td>55.392367</td>\n",
              "      <td>7.767628</td>\n",
              "      <td>800.576723</td>\n",
              "      <td>4578.013053</td>\n",
              "      <td>294.852020</td>\n",
              "      <td>971.853102</td>\n",
              "      <td>268.836273</td>\n",
              "      <td>368.638776</td>\n",
              "      <td>80.247427</td>\n",
              "      <td>1964.767779</td>\n",
              "      <td>3696.725756</td>\n",
              "      <td>0.959128</td>\n",
              "      <td>43.303821</td>\n",
              "      <td>5.089646</td>\n",
              "      <td>772.093064</td>\n",
              "      <td>643.381991</td>\n",
              "      <td>246.307700</td>\n",
              "      <td>312.871487</td>\n",
              "      <td>36.221243</td>\n",
              "      <td>656.761843</td>\n",
              "      <td>650.520866</td>\n",
              "      <td>248.040620</td>\n",
              "      <td>357.035450</td>\n",
              "      <td>62.951374</td>\n",
              "      <td>1100.752625</td>\n",
              "      <td>65.353516</td>\n",
              "      <td>34.464519</td>\n",
              "      <td>2.192922</td>\n",
              "      <td>1.761616</td>\n",
              "      <td>0.63752</td>\n",
              "      <td>104.973929</td>\n",
              "      <td>3204.054864</td>\n",
              "      <td>789.689559</td>\n",
              "      <td>11039.051992</td>\n",
              "      <td>0.076138</td>\n",
              "    </tr>\n",
              "    <tr>\n",
              "      <th>min</th>\n",
              "      <td>1991.000000</td>\n",
              "      <td>1.000000</td>\n",
              "      <td>272.000000</td>\n",
              "      <td>0.000000</td>\n",
              "      <td>2.000000</td>\n",
              "      <td>10.00000</td>\n",
              "      <td>122.000000</td>\n",
              "      <td>2350.000000</td>\n",
              "      <td>188.000000</td>\n",
              "      <td>111.000000</td>\n",
              "      <td>848.000000</td>\n",
              "      <td>243.000000</td>\n",
              "      <td>49.000000</td>\n",
              "      <td>1097.000000</td>\n",
              "      <td>59.000000</td>\n",
              "      <td>688.000000</td>\n",
              "      <td>281.000000</td>\n",
              "      <td>0.000000</td>\n",
              "      <td>0.000000</td>\n",
              "      <td>0.000000</td>\n",
              "      <td>1.000000</td>\n",
              "      <td>11.000000</td>\n",
              "      <td>0.000000</td>\n",
              "      <td>81.000000</td>\n",
              "      <td>3261.000000</td>\n",
              "      <td>1159.000000</td>\n",
              "      <td>322.000000</td>\n",
              "      <td>23.000000</td>\n",
              "      <td>484.000000</td>\n",
              "      <td>0.000000</td>\n",
              "      <td>2322.000000</td>\n",
              "      <td>4691.000000</td>\n",
              "      <td>0.000000</td>\n",
              "      <td>23.000000</td>\n",
              "      <td>0.000000</td>\n",
              "      <td>717.000000</td>\n",
              "      <td>80.000000</td>\n",
              "      <td>248.000000</td>\n",
              "      <td>262.000000</td>\n",
              "      <td>114.000000</td>\n",
              "      <td>729.000000</td>\n",
              "      <td>1173.000000</td>\n",
              "      <td>225.000000</td>\n",
              "      <td>628.000000</td>\n",
              "      <td>21.000000</td>\n",
              "      <td>1409.000000</td>\n",
              "      <td>236.000000</td>\n",
              "      <td>0.000000</td>\n",
              "      <td>0.000000</td>\n",
              "      <td>0.000000</td>\n",
              "      <td>0.00000</td>\n",
              "      <td>334.000000</td>\n",
              "      <td>1086.000000</td>\n",
              "      <td>1097.000000</td>\n",
              "      <td>30621.000000</td>\n",
              "      <td>2.000000</td>\n",
              "    </tr>\n",
              "    <tr>\n",
              "      <th>25%</th>\n",
              "      <td>1998.000000</td>\n",
              "      <td>3.000000</td>\n",
              "      <td>413.750000</td>\n",
              "      <td>2.000000</td>\n",
              "      <td>11.000000</td>\n",
              "      <td>41.75000</td>\n",
              "      <td>200.000000</td>\n",
              "      <td>4067.000000</td>\n",
              "      <td>282.000000</td>\n",
              "      <td>176.000000</td>\n",
              "      <td>3040.000000</td>\n",
              "      <td>365.750000</td>\n",
              "      <td>103.750000</td>\n",
              "      <td>1889.750000</td>\n",
              "      <td>208.250000</td>\n",
              "      <td>1053.000000</td>\n",
              "      <td>430.750000</td>\n",
              "      <td>2.000000</td>\n",
              "      <td>2.000000</td>\n",
              "      <td>549.750000</td>\n",
              "      <td>6.000000</td>\n",
              "      <td>106.000000</td>\n",
              "      <td>2.250000</td>\n",
              "      <td>811.750000</td>\n",
              "      <td>5107.750000</td>\n",
              "      <td>1430.500000</td>\n",
              "      <td>732.000000</td>\n",
              "      <td>501.000000</td>\n",
              "      <td>1297.000000</td>\n",
              "      <td>3.750000</td>\n",
              "      <td>3978.000000</td>\n",
              "      <td>6700.250000</td>\n",
              "      <td>0.000000</td>\n",
              "      <td>109.750000</td>\n",
              "      <td>4.750000</td>\n",
              "      <td>1654.500000</td>\n",
              "      <td>714.500000</td>\n",
              "      <td>360.500000</td>\n",
              "      <td>426.000000</td>\n",
              "      <td>160.000000</td>\n",
              "      <td>1276.750000</td>\n",
              "      <td>1681.000000</td>\n",
              "      <td>332.500000</td>\n",
              "      <td>950.500000</td>\n",
              "      <td>46.000000</td>\n",
              "      <td>4868.500000</td>\n",
              "      <td>390.000000</td>\n",
              "      <td>42.000000</td>\n",
              "      <td>2.000000</td>\n",
              "      <td>1.000000</td>\n",
              "      <td>0.00000</td>\n",
              "      <td>500.000000</td>\n",
              "      <td>1557.000000</td>\n",
              "      <td>1889.750000</td>\n",
              "      <td>45374.500000</td>\n",
              "      <td>3.000000</td>\n",
              "    </tr>\n",
              "    <tr>\n",
              "      <th>50%</th>\n",
              "      <td>2005.000000</td>\n",
              "      <td>6.000000</td>\n",
              "      <td>507.000000</td>\n",
              "      <td>4.000000</td>\n",
              "      <td>15.000000</td>\n",
              "      <td>70.00000</td>\n",
              "      <td>318.500000</td>\n",
              "      <td>5830.500000</td>\n",
              "      <td>384.000000</td>\n",
              "      <td>203.000000</td>\n",
              "      <td>3372.000000</td>\n",
              "      <td>433.500000</td>\n",
              "      <td>125.000000</td>\n",
              "      <td>2322.000000</td>\n",
              "      <td>285.500000</td>\n",
              "      <td>2788.500000</td>\n",
              "      <td>592.000000</td>\n",
              "      <td>4.500000</td>\n",
              "      <td>3.000000</td>\n",
              "      <td>717.500000</td>\n",
              "      <td>10.000000</td>\n",
              "      <td>149.500000</td>\n",
              "      <td>13.000000</td>\n",
              "      <td>1154.000000</td>\n",
              "      <td>9243.500000</td>\n",
              "      <td>1637.500000</td>\n",
              "      <td>1076.500000</td>\n",
              "      <td>717.500000</td>\n",
              "      <td>1492.500000</td>\n",
              "      <td>158.000000</td>\n",
              "      <td>6559.000000</td>\n",
              "      <td>10448.500000</td>\n",
              "      <td>0.000000</td>\n",
              "      <td>132.500000</td>\n",
              "      <td>7.000000</td>\n",
              "      <td>2170.500000</td>\n",
              "      <td>979.500000</td>\n",
              "      <td>623.000000</td>\n",
              "      <td>815.000000</td>\n",
              "      <td>184.000000</td>\n",
              "      <td>1755.000000</td>\n",
              "      <td>2424.000000</td>\n",
              "      <td>530.000000</td>\n",
              "      <td>1259.000000</td>\n",
              "      <td>58.000000</td>\n",
              "      <td>5455.000000</td>\n",
              "      <td>427.000000</td>\n",
              "      <td>60.500000</td>\n",
              "      <td>3.000000</td>\n",
              "      <td>2.000000</td>\n",
              "      <td>0.00000</td>\n",
              "      <td>590.000000</td>\n",
              "      <td>4190.000000</td>\n",
              "      <td>2322.000000</td>\n",
              "      <td>54926.500000</td>\n",
              "      <td>3.000000</td>\n",
              "    </tr>\n",
              "    <tr>\n",
              "      <th>75%</th>\n",
              "      <td>2012.000000</td>\n",
              "      <td>9.000000</td>\n",
              "      <td>577.250000</td>\n",
              "      <td>6.000000</td>\n",
              "      <td>19.000000</td>\n",
              "      <td>96.25000</td>\n",
              "      <td>398.250000</td>\n",
              "      <td>6582.500000</td>\n",
              "      <td>441.250000</td>\n",
              "      <td>236.250000</td>\n",
              "      <td>3733.500000</td>\n",
              "      <td>536.250000</td>\n",
              "      <td>151.250000</td>\n",
              "      <td>2778.000000</td>\n",
              "      <td>401.250000</td>\n",
              "      <td>5385.250000</td>\n",
              "      <td>784.000000</td>\n",
              "      <td>14.000000</td>\n",
              "      <td>5.000000</td>\n",
              "      <td>1306.750000</td>\n",
              "      <td>15.000000</td>\n",
              "      <td>180.500000</td>\n",
              "      <td>17.000000</td>\n",
              "      <td>1635.000000</td>\n",
              "      <td>11590.500000</td>\n",
              "      <td>1833.250000</td>\n",
              "      <td>2334.250000</td>\n",
              "      <td>860.000000</td>\n",
              "      <td>1731.250000</td>\n",
              "      <td>181.500000</td>\n",
              "      <td>7601.500000</td>\n",
              "      <td>13877.500000</td>\n",
              "      <td>1.000000</td>\n",
              "      <td>152.250000</td>\n",
              "      <td>11.000000</td>\n",
              "      <td>2880.500000</td>\n",
              "      <td>1546.000000</td>\n",
              "      <td>763.500000</td>\n",
              "      <td>1045.250000</td>\n",
              "      <td>208.000000</td>\n",
              "      <td>2202.000000</td>\n",
              "      <td>2905.500000</td>\n",
              "      <td>793.500000</td>\n",
              "      <td>1515.250000</td>\n",
              "      <td>93.000000</td>\n",
              "      <td>6261.750000</td>\n",
              "      <td>481.500000</td>\n",
              "      <td>87.000000</td>\n",
              "      <td>4.000000</td>\n",
              "      <td>3.000000</td>\n",
              "      <td>1.00000</td>\n",
              "      <td>649.000000</td>\n",
              "      <td>6872.750000</td>\n",
              "      <td>2778.000000</td>\n",
              "      <td>63292.500000</td>\n",
              "      <td>3.000000</td>\n",
              "    </tr>\n",
              "    <tr>\n",
              "      <th>max</th>\n",
              "      <td>2019.000000</td>\n",
              "      <td>12.000000</td>\n",
              "      <td>831.000000</td>\n",
              "      <td>21.000000</td>\n",
              "      <td>36.000000</td>\n",
              "      <td>194.00000</td>\n",
              "      <td>645.000000</td>\n",
              "      <td>9050.000000</td>\n",
              "      <td>561.000000</td>\n",
              "      <td>449.000000</td>\n",
              "      <td>6653.000000</td>\n",
              "      <td>914.000000</td>\n",
              "      <td>300.000000</td>\n",
              "      <td>5358.000000</td>\n",
              "      <td>1329.000000</td>\n",
              "      <td>9669.000000</td>\n",
              "      <td>1628.000000</td>\n",
              "      <td>54.000000</td>\n",
              "      <td>12.000000</td>\n",
              "      <td>2626.000000</td>\n",
              "      <td>37.000000</td>\n",
              "      <td>283.000000</td>\n",
              "      <td>26.000000</td>\n",
              "      <td>3661.000000</td>\n",
              "      <td>23203.000000</td>\n",
              "      <td>2630.000000</td>\n",
              "      <td>5368.000000</td>\n",
              "      <td>1036.000000</td>\n",
              "      <td>2215.000000</td>\n",
              "      <td>243.000000</td>\n",
              "      <td>9880.000000</td>\n",
              "      <td>18003.000000</td>\n",
              "      <td>5.000000</td>\n",
              "      <td>271.000000</td>\n",
              "      <td>31.000000</td>\n",
              "      <td>3627.000000</td>\n",
              "      <td>2543.000000</td>\n",
              "      <td>1160.000000</td>\n",
              "      <td>1282.000000</td>\n",
              "      <td>289.000000</td>\n",
              "      <td>3695.000000</td>\n",
              "      <td>3425.000000</td>\n",
              "      <td>1114.000000</td>\n",
              "      <td>2314.000000</td>\n",
              "      <td>350.000000</td>\n",
              "      <td>9034.000000</td>\n",
              "      <td>628.000000</td>\n",
              "      <td>217.000000</td>\n",
              "      <td>13.000000</td>\n",
              "      <td>10.000000</td>\n",
              "      <td>3.00000</td>\n",
              "      <td>848.000000</td>\n",
              "      <td>13833.000000</td>\n",
              "      <td>5358.000000</td>\n",
              "      <td>75403.000000</td>\n",
              "      <td>3.000000</td>\n",
              "    </tr>\n",
              "  </tbody>\n",
              "</table>\n",
              "</div>"
            ],
            "text/plain": [
              "              vano         mes  ...  registro_ocorrencias        fase\n",
              "count   344.000000  344.000000  ...            248.000000  344.000000\n",
              "mean   2004.837209    6.453488  ...          53794.161290    2.994186\n",
              "std       8.289036    3.447759  ...          11039.051992    0.076138\n",
              "min    1991.000000    1.000000  ...          30621.000000    2.000000\n",
              "25%    1998.000000    3.000000  ...          45374.500000    3.000000\n",
              "50%    2005.000000    6.000000  ...          54926.500000    3.000000\n",
              "75%    2012.000000    9.000000  ...          63292.500000    3.000000\n",
              "max    2019.000000   12.000000  ...          75403.000000    3.000000\n",
              "\n",
              "[8 rows x 56 columns]"
            ]
          },
          "metadata": {
            "tags": []
          },
          "execution_count": 26
        }
      ]
    },
    {
      "cell_type": "markdown",
      "metadata": {
        "id": "7WK0NBQZASKC",
        "colab_type": "text"
      },
      "source": [
        "#3 Visualização de Dados\n",
        "A visualização de dados é uma expressão contemporânea da comunicação visual que consiste na representação visual de dados. Na VD, há exibição gráfica de informações abstratas com os propósitos de atribuição de sentido e comunicação.\n",
        "\n",
        "No que diz respeito à área de Visualização de Dados, existem diversas abordagens que podem ser feitas. Uma das mais utilizadas é, justamente, a apresentação de informações, na qual temos duas partes principais: a) Gráficos Estatísticos b) Cartografia Temática[6]\n",
        "\n",
        "Plote e comente os seguintes gráficos:\n",
        "\n",
        "* Histograma de `hom_doloso`\n",
        "* Gráfico de linhas para a variável `roubo_em_coletivo`\n"
      ]
    },
    {
      "cell_type": "markdown",
      "metadata": {
        "id": "rvvsQpWeQSJl",
        "colab_type": "text"
      },
      "source": [
        "### Encontrando as médias das seguintes variáveis (colunas):\n",
        "\n",
        "Abaixo demonstro como encontrar as médias referentes a colunas específicas. \n",
        "\n",
        "* roubo_veiculo\n",
        "* furto_veiculos\n",
        "* recuperacao_veiculos\n",
        "\n",
        "Abaixo coloco as médias de roubos de veículos e furtos. Para que haja melhor entendimento da distinção desses modelos descrevo abaixo a definição de ambos.\n",
        "\n"
      ]
    },
    {
      "cell_type": "code",
      "metadata": {
        "id": "u15_6yyBQIbb",
        "colab_type": "code",
        "outputId": "3786c706-f9cb-4862-a5d2-dd99f67b162f",
        "colab": {
          "base_uri": "https://localhost:8080/",
          "height": 33
        }
      },
      "source": [
        "#encontrando aqui a média de roubo de veículo\n",
        "\n",
        "mean_roubo_veiculo = df.roubo_veiculo.mean()\n",
        "print(mean_roubo_veiculo)"
      ],
      "execution_count": 0,
      "outputs": [
        {
          "output_type": "stream",
          "text": [
            "2448.6976744186045\n"
          ],
          "name": "stdout"
        }
      ]
    },
    {
      "cell_type": "code",
      "metadata": {
        "id": "S4llaMQ1Xpsd",
        "colab_type": "code",
        "outputId": "bb4a5bfb-f768-4c76-d11c-6bea3449ea94",
        "colab": {
          "base_uri": "https://localhost:8080/",
          "height": 33
        }
      },
      "source": [
        "#encontrando aqui a média de furto de veículo\n",
        "\n",
        "mean_furto_veiculos = df.furto_veiculos.mean()\n",
        "print(mean_furto_veiculos)"
      ],
      "execution_count": 0,
      "outputs": [
        {
          "output_type": "stream",
          "text": [
            "1674.671511627907\n"
          ],
          "name": "stdout"
        }
      ]
    },
    {
      "cell_type": "code",
      "metadata": {
        "id": "hoWuFIUkYej5",
        "colab_type": "code",
        "outputId": "c2891a8e-9c78-4130-a104-90757cb4afa7",
        "colab": {
          "base_uri": "https://localhost:8080/",
          "height": 33
        }
      },
      "source": [
        "#encontrando aqui a média de recuperacao de veículo\n",
        "\n",
        "mean_recuperacao_veiculos = df.recuperacao_veiculos.mean()\n",
        "print(mean_recuperacao_veiculos)"
      ],
      "execution_count": 0,
      "outputs": [
        {
          "output_type": "stream",
          "text": [
            "1772.2383720930231\n"
          ],
          "name": "stdout"
        }
      ]
    },
    {
      "cell_type": "markdown",
      "metadata": {
        "id": "cqXQz6NkbcEw",
        "colab_type": "text"
      },
      "source": [
        "###Histograma de Homícidio Doloso\n",
        "\n",
        "O histograma, também conhecido como distribuição de frequências, é a representação gráfica em colunas ou em barras de um conjunto de dados previamente tabulado e dividido em classes uniformes ou não uniformes. A base de cada retângulo representa uma classe.\n"
      ]
    },
    {
      "cell_type": "code",
      "metadata": {
        "id": "2MqDyBXcbitk",
        "colab_type": "code",
        "outputId": "ff0e0270-6e8d-42e1-9d2a-7ed79653a0bb",
        "colab": {
          "base_uri": "https://localhost:8080/",
          "height": 297
        }
      },
      "source": [
        "import numpy as np\n",
        "\n",
        "count, bin_edges = np.histogram(df[\"hom_doloso\"])\n",
        "\n",
        "\n",
        "# plotar o histograma do hom_doloso\n",
        "fig, ax = plt.subplots()\n",
        "\n",
        "df[\"hom_doloso\"].plot(kind=\"hist\", ax=ax, bins=40,\n",
        "                            xticks=bin_edges)\n",
        "\n",
        "ax.set_title(\"Histograma de Homícidio Doloso\")\n",
        "ax.set_ylabel(\"Eixo Y\")\n",
        "ax.set_xlabel(\"Quantidade de ocorrências\")\n",
        "\n",
        "plt.tight_layout()"
      ],
      "execution_count": 0,
      "outputs": [
        {
          "output_type": "display_data",
          "data": {
            "image/png": "[encoded data removed]",
            "text/plain": [
              "<Figure size 432x288 with 1 Axes>"
            ]
          },
          "metadata": {
            "tags": []
          }
        }
      ]
    },
    {
      "cell_type": "markdown",
      "metadata": {
        "id": "d7Lgs3gWwHW-",
        "colab_type": "text"
      },
      "source": [
        "###Homicídio Doloso por Ano\n",
        "\n",
        "Inegavelmente, o homicídio doloso é a mais chocante violação do senso moral médio da humanidade civilizada, segundo ensina Nelson Hungria. Conforme lembra o mesmo, mencionando a definição de Carmignani, caracteriza-se pela \"violenta hominis caedes ab hominis injuste patrata\", ocisão violenta de um homem injustamente praticada por outro homem (vale lembrar que alguns homicídios são \"justos\" do ponto de vista legal, por exemplo, se decorrente de defesa pessoal).\n",
        "<center>\n",
        "* Analisando os dados de 1991 à 2019."
      ]
    },
    {
      "cell_type": "code",
      "metadata": {
        "id": "IwJuaTDtbKi3",
        "colab_type": "code",
        "outputId": "f3c600f8-e79f-4e06-d7f5-2ff309c8a0ee",
        "colab": {
          "base_uri": "https://localhost:8080/",
          "height": 52
        }
      },
      "source": [
        "# valores max e min de hom_doloso\n",
        "min_hom_doloso = df.hom_doloso.min()\n",
        "max_hom_doloso = df.hom_doloso.max()\n",
        "\n",
        "# imprimir os valores máximos e mínimos\n",
        "print(\"Min:\\t{}\".format(min_hom_doloso))\n",
        "print(\"Max:\\t{}\".format(max_hom_doloso))"
      ],
      "execution_count": 0,
      "outputs": [
        {
          "output_type": "stream",
          "text": [
            "Min:\t272\n",
            "Max:\t831\n"
          ],
          "name": "stdout"
        }
      ]
    },
    {
      "cell_type": "markdown",
      "metadata": {
        "id": "-Xsl927calaW",
        "colab_type": "text"
      },
      "source": [
        "### Valores max e min de homícidio doloso\n",
        "\n",
        "Em nosso dataset podemos observar que entre 1991 e 2019 houve:\n",
        "\n",
        "* Mín de 272 homícidios em um ano\n",
        "* Máx de 831 homícidios em um ano\n",
        "\n"
      ]
    },
    {
      "cell_type": "code",
      "metadata": {
        "id": "TU1-JAmwvwSC",
        "colab_type": "code",
        "outputId": "21e66389-4691-49a8-a5b1-7f7d9e986b48",
        "colab": {
          "base_uri": "https://localhost:8080/",
          "height": 232
        }
      },
      "source": [
        "#Média de homícidio doloso por ano\n",
        "df_clean = df.copy()\n",
        "df_clean.groupby(['vano']).hom_doloso.mean().sort_values(ascending=False)[:10]"
      ],
      "execution_count": 0,
      "outputs": [
        {
          "output_type": "execute_result",
          "data": {
            "text/plain": [
              "vano\n",
              "1995    703.166667\n",
              "1994    700.666667\n",
              "1993    643.333333\n",
              "1992    636.250000\n",
              "1991    626.500000\n",
              "1996    604.916667\n",
              "1997    576.916667\n",
              "2002    573.750000\n",
              "2003    552.000000\n",
              "2005    551.666667\n",
              "Name: hom_doloso, dtype: float64"
            ]
          },
          "metadata": {
            "tags": []
          },
          "execution_count": 86
        }
      ]
    },
    {
      "cell_type": "markdown",
      "metadata": {
        "id": "Qx7ouwmvbLxQ",
        "colab_type": "text"
      },
      "source": [
        "###Média de homícidio doloso por ano\n",
        "\n",
        "Listei a média dos anos em que houveram **maior indíce de homício doloso por ano**. Sendo os três primeiros anos com maior média **1995, 1994 e 1993.** com mais ded 600 mortes por ano."
      ]
    },
    {
      "cell_type": "code",
      "metadata": {
        "id": "TKbGn07pUaej",
        "colab_type": "code",
        "outputId": "82321fdc-4d98-4575-9c26-9ab74215b027",
        "colab": {
          "base_uri": "https://localhost:8080/",
          "height": 232
        }
      },
      "source": [
        "#Máximo de homícidio doloso por ano\n",
        "df_clean = df.copy()\n",
        "df_clean.groupby(['vano']).hom_doloso.max().sort_values(ascending=False)[:10]"
      ],
      "execution_count": 0,
      "outputs": [
        {
          "output_type": "execute_result",
          "data": {
            "text/plain": [
              "vano\n",
              "1995    831\n",
              "1994    826\n",
              "1992    767\n",
              "1993    755\n",
              "1991    732\n",
              "1996    706\n",
              "2005    682\n",
              "2002    668\n",
              "1997    649\n",
              "2007    640\n",
              "Name: hom_doloso, dtype: int64"
            ]
          },
          "metadata": {
            "tags": []
          },
          "execution_count": 93
        }
      ]
    },
    {
      "cell_type": "markdown",
      "metadata": {
        "id": "oXTznbzD_GQ3",
        "colab_type": "text"
      },
      "source": [
        "Constata-se que o ano de **1995, 1994 e 1993** foram os **anos mais violentos** no Rio de Janeiro entre os anos de 1991 a 2019. \n",
        "\n",
        "A título de curiosidade coloco que dada as circunstâncias os anos de **2015, 2012 e 2013** foram os anos que menos tiveram índices menores no mesmo período.\n",
        "\n",
        "Sendo então 1995 o ano mais violento do Rio de Janeiro com a máxima já conhecida de **831 mortes**\n",
        "\n",
        "De janeiro de **2019** até o mês de agosto foram registradas **386 homícidios dolosos.**\n"
      ]
    },
    {
      "cell_type": "code",
      "metadata": {
        "id": "lrctrf3o2NVK",
        "colab_type": "code",
        "outputId": "cde1ccf9-96b4-4d8d-dcd3-e472c98ce9b1",
        "colab": {
          "base_uri": "https://localhost:8080/",
          "height": 577
        }
      },
      "source": [
        "# plotar o número de casos confirmados\n",
        "fig, ax = plt.subplots()\n",
        "\n",
        "df[\"hom_doloso\"].plot(kind=\"line\", ax=ax)\n",
        "ax.set_title(\"Homícidio Doloso\")\n",
        "ax.set_ylabel(\"Eixo Y\")\n",
        "ax.set_xlabel(\"Eixo X\")\n",
        "\n",
        "plt.tight_layout()\n",
        "\n",
        "# plotar o número de casos confirmados\n",
        "fig, ax = plt.subplots()\n",
        "\n",
        "df[\"tentat_hom\"].plot(kind=\"line\", ax=ax)\n",
        "ax.set_title(\"Tentativa de Homícidio\")\n",
        "ax.set_ylabel(\"Eixo Y\")\n",
        "ax.set_xlabel(\"Eixo X\")\n",
        "\n",
        "plt.tight_layout()"
      ],
      "execution_count": 0,
      "outputs": [
        {
          "output_type": "display_data",
          "data": {
            "image/png": "[encoded data removed]",
            "text/plain": [
              "<Figure size 432x288 with 1 Axes>"
            ]
          },
          "metadata": {
            "tags": []
          }
        },
        {
          "output_type": "display_data",
          "data": {
            "image/png": "[encoded data removed]",
            "text/plain": [
              "<Figure size 432x288 with 1 Axes>"
            ]
          },
          "metadata": {
            "tags": []
          }
        }
      ]
    },
    {
      "cell_type": "code",
      "metadata": {
        "id": "qwoIonr9O7ue",
        "colab_type": "code",
        "outputId": "4ce3223a-4224-4754-8b53-a8658b4d512f",
        "colab": {
          "base_uri": "https://localhost:8080/",
          "height": 297
        }
      },
      "source": [
        "\n",
        "fig, ax = plt.subplots()\n",
        "\n",
        "df.plot(kind=\"line\", ax=ax, x='vano', y=['hom_doloso','tentat_hom']);\n",
        "\n",
        "ax.set_title(\"Tentativa de Homícidio X Homícidio Doloso\")\n",
        "ax.set_ylabel(\"Quantidade\")\n",
        "ax.set_xlabel(\"Anos\")\n",
        "\n",
        "plt.tight_layout()\n",
        "\n"
      ],
      "execution_count": 0,
      "outputs": [
        {
          "output_type": "display_data",
          "data": {
            "image/png": "[encoded data removed]",
            "text/plain": [
              "<Figure size 432x288 with 1 Axes>"
            ]
          },
          "metadata": {
            "tags": []
          }
        }
      ]
    },
    {
      "cell_type": "markdown",
      "metadata": {
        "id": "anLYK5ZUPz9B",
        "colab_type": "text"
      },
      "source": [
        "É visto que em análise aos gráficos de linha acima temos que o número de homícidio doloso tem **diminuído** porém a quantidade de tentativa de homícidio tem **crescido** durante o período."
      ]
    },
    {
      "cell_type": "code",
      "metadata": {
        "id": "yvpv6W6Mbx4h",
        "colab_type": "code",
        "outputId": "42caa326-c594-49c4-f1fa-9c047a4f5542",
        "colab": {
          "base_uri": "https://localhost:8080/",
          "height": 265
        }
      },
      "source": [
        "df.roubo_em_coletivo.plot();"
      ],
      "execution_count": 0,
      "outputs": [
        {
          "output_type": "display_data",
          "data": {
            "image/png": "[encoded data removed]",
            "text/plain": [
              "<Figure size 432x288 with 1 Axes>"
            ]
          },
          "metadata": {
            "tags": []
          }
        }
      ]
    },
    {
      "cell_type": "markdown",
      "metadata": {
        "id": "UPqka9cHf2C-",
        "colab_type": "text"
      },
      "source": [
        "###Tentativa de homicídio\n",
        "\n",
        "Homicídio (do latim hominis excidium) é o ato que consiste em uma pessoa matar a outra. O homicídio pode ser dividido em diferentes subcategorias, como o infanticídio, a eutanásia, a pena de morte e a legítima defesa; que dependem da circunstância em que ocorreu a morte. Estas espécies de homicídio são tratadas diferentemente entre as sociedades, que considera crime a maioria delas. No entanto, o homicídio pode deixar de ser punido, por exemplo nos casos de legítima defesa; ou até mesmo ser incentivado e ordenado pelo Estado, no caso da pena de morte.\n",
        "\n",
        "Aqui analisaremos os:\n",
        "* indíces min e max de tentativas de homicídios\n",
        "* ano com maior indíce de tentativas\n",
        "* mes com maior indíce de tentativas "
      ]
    },
    {
      "cell_type": "code",
      "metadata": {
        "id": "OM6ixsgbf5A0",
        "colab_type": "code",
        "outputId": "dc3e9d4b-f815-4bae-9d5c-65715769339e",
        "colab": {
          "base_uri": "https://localhost:8080/",
          "height": 50
        }
      },
      "source": [
        "#maximo e minimo sobre tentativas de homicidio\n",
        "\n",
        "tentat_hom = df.tentat_hom.max()\n",
        "tentat_hom1 = df.tentat_hom.min()\n",
        "\n",
        "# imprimir os valores máximos e mínimos\n",
        "print(\"Min:\\t{}\".format(tentat_hom1))\n",
        "print(\"Max:\\t{}\".format(tentat_hom))"
      ],
      "execution_count": 0,
      "outputs": [
        {
          "output_type": "stream",
          "text": [
            "Min:\t122\n",
            "Max:\t645\n"
          ],
          "name": "stdout"
        }
      ]
    },
    {
      "cell_type": "code",
      "metadata": {
        "id": "eGPJ9N70i3yn",
        "colab_type": "code",
        "outputId": "4dad2f04-5a04-4615-91c4-2175b3869c82",
        "colab": {
          "base_uri": "https://localhost:8080/",
          "height": 232
        }
      },
      "source": [
        "#Qual ano teve maior média de tentativa de homicidio\n",
        "df_clean = df.copy()\n",
        "df_clean.groupby(['vano']).tentat_hom.mean().sort_values(ascending=False)[:10]"
      ],
      "execution_count": 0,
      "outputs": [
        {
          "output_type": "execute_result",
          "data": {
            "text/plain": [
              "vano\n",
              "2014    530.500000\n",
              "2018    520.166667\n",
              "2016    504.583333\n",
              "2015    500.750000\n",
              "2017    500.083333\n",
              "2019    481.625000\n",
              "2013    412.333333\n",
              "2012    381.166667\n",
              "2009    372.666667\n",
              "2011    353.500000\n",
              "Name: tentat_hom, dtype: float64"
            ]
          },
          "metadata": {
            "tags": []
          },
          "execution_count": 95
        }
      ]
    },
    {
      "cell_type": "code",
      "metadata": {
        "id": "84qahOvIXOBQ",
        "colab_type": "code",
        "outputId": "5afb8b30-3382-4cfe-9356-7c2dcdb6f034",
        "colab": {
          "base_uri": "https://localhost:8080/",
          "height": 232
        }
      },
      "source": [
        "#Qual ano teve maior indice de tentativa de homicidio\n",
        "df_clean = df.copy()\n",
        "df_clean.groupby(['vano']).tentat_hom.max().sort_values(ascending=False)[:10]"
      ],
      "execution_count": 0,
      "outputs": [
        {
          "output_type": "execute_result",
          "data": {
            "text/plain": [
              "vano\n",
              "2014    645\n",
              "2015    618\n",
              "2018    607\n",
              "2019    590\n",
              "2016    552\n",
              "2017    550\n",
              "2012    538\n",
              "2013    532\n",
              "2009    444\n",
              "2006    433\n",
              "Name: tentat_hom, dtype: int64"
            ]
          },
          "metadata": {
            "tags": []
          },
          "execution_count": 96
        }
      ]
    },
    {
      "cell_type": "code",
      "metadata": {
        "id": "5oWV32kKku1e",
        "colab_type": "code",
        "outputId": "ec050edc-7b6f-406b-ae32-fa4545f34c7f",
        "colab": {
          "base_uri": "https://localhost:8080/",
          "height": 212
        }
      },
      "source": [
        "#Qual mes teve maior indice de tentativa de homicidio\n",
        "df_clean.groupby(['mes']).tentat_hom.mean().sort_values(ascending=False)[:10]"
      ],
      "execution_count": 0,
      "outputs": [
        {
          "output_type": "execute_result",
          "data": {
            "text/plain": [
              "mes\n",
              "3     343.827586\n",
              "1     335.448276\n",
              "12    332.642857\n",
              "5     322.689655\n",
              "2     321.827586\n",
              "10    320.250000\n",
              "4     320.172414\n",
              "11    315.392857\n",
              "8     313.586207\n",
              "9     304.071429\n",
              "Name: tentat_hom, dtype: float64"
            ]
          },
          "metadata": {
            "tags": []
          },
          "execution_count": 38
        }
      ]
    },
    {
      "cell_type": "code",
      "metadata": {
        "id": "Rth5KOA6242s",
        "colab_type": "code",
        "outputId": "9b41735b-efc8-464d-ccda-3948e0d6dbec",
        "colab": {
          "base_uri": "https://localhost:8080/",
          "height": 265
        }
      },
      "source": [
        "df.tentat_hom.plot();"
      ],
      "execution_count": 0,
      "outputs": [
        {
          "output_type": "display_data",
          "data": {
            "image/png": "[encoded data removed]",
            "text/plain": [
              "<Figure size 432x288 with 1 Axes>"
            ]
          },
          "metadata": {
            "tags": []
          }
        }
      ]
    },
    {
      "cell_type": "markdown",
      "metadata": {
        "id": "nC9xFsr4dIV9",
        "colab_type": "text"
      },
      "source": [
        "### Resumo sobre a tentativa de homícidio\n",
        "\n",
        "Com o passar dos anos identificamos no dataset que o homícidio doloso tem diminuido entretanto a **tentativa de homícidio tem aumentado**.\n",
        "\n",
        "Tendo em vista que: \n",
        "\n",
        "* Mín de tentativas por ano foi de 122\n",
        "* Máx de tentativas por ano foi de 645\n",
        "\n",
        "Onde os **anos com maior média** de tentativas de homícidios foram\n",
        "\n",
        "* 1º 2014\n",
        "* 2º 2018\n",
        "* 3º 2016\n",
        "\n",
        "com mais de 500 tentativas por ano. Sendo o ano de 2014 com efetivamente maior número e o mÊs com maior índice fica com março.\n"
      ]
    },
    {
      "cell_type": "markdown",
      "metadata": {
        "id": "YsXQkvelo-mt",
        "colab_type": "text"
      },
      "source": [
        "###Furtos no Rio de Janeiro\n",
        "\n",
        "Consiste na subtração de coisa alheia móvel para si ou para outrem, com fim de assenhoramento definitivo. No furto não há violência ou grave ameaça, que difere do roubo por haver a existência grave violência ou ameaça.\n",
        "\n",
        "Muito famoso em vídeos virais no YouTube e páginas de apoiadores da segurança pública onde mostra jovens patricando o furto pelas ruas da cidade. Muitas vezes a luz do dia e sempre contra um pedestre ou trabalhador que por um determinado momento se descuida do seu pertence.\n",
        "\n",
        "Agora analisando o dataset temos as seguintes conclusões:\n",
        "\n",
        "Sobre o **máximo e mínimo** de furtos por ano:\n",
        "\n",
        "* **Mín**: 4691 furtos\n",
        "* **Máx**: 18003 furtos\n",
        "\n",
        "Os anos que tiveram uma média maior de furtos foram:\n",
        "\n",
        "* **1º 2013** com 15234\n",
        "* **2º 2014** com 15195\n",
        "* **3º 2015** com 14987\n",
        "\n",
        "\n",
        "\n"
      ]
    },
    {
      "cell_type": "code",
      "metadata": {
        "id": "1mHqHMbJpDlA",
        "colab_type": "code",
        "outputId": "8774aa9d-a77c-4bf8-c21e-ba9116f1c02e",
        "colab": {
          "base_uri": "https://localhost:8080/",
          "height": 50
        }
      },
      "source": [
        "#maximo e minimo sobre o crime de furtos\n",
        "\n",
        "max_total_furtos = df.total_furtos.max()\n",
        "min_total_furtos = df.total_furtos.min()\n",
        "\n",
        "# imprimir os valores máximos e mínimos\n",
        "print(\"Min:\\t{}\".format(min_total_furtos))\n",
        "print(\"Max:\\t{}\".format(max_total_furtos))"
      ],
      "execution_count": 0,
      "outputs": [
        {
          "output_type": "stream",
          "text": [
            "Min:\t4691\n",
            "Max:\t18003\n"
          ],
          "name": "stdout"
        }
      ]
    },
    {
      "cell_type": "code",
      "metadata": {
        "id": "u4wDJnSHlBoX",
        "colab_type": "code",
        "outputId": "58c476c1-b570-47df-be84-86527dc62b0d",
        "colab": {
          "base_uri": "https://localhost:8080/",
          "height": 232
        }
      },
      "source": [
        "#Qual ano teve maior média de furtos\n",
        "df_clean = df.copy()\n",
        "df_clean.groupby(['vano']).total_furtos.mean().sort_values(ascending=False)[:10]"
      ],
      "execution_count": 0,
      "outputs": [
        {
          "output_type": "execute_result",
          "data": {
            "text/plain": [
              "vano\n",
              "2013    15234.583333\n",
              "2014    15195.000000\n",
              "2015    14987.083333\n",
              "2012    14894.916667\n",
              "2011    14666.666667\n",
              "2010    14564.666667\n",
              "2009    14187.083333\n",
              "2016    14103.166667\n",
              "2008    14078.750000\n",
              "2019    13186.875000\n",
              "Name: total_furtos, dtype: float64"
            ]
          },
          "metadata": {
            "tags": []
          },
          "execution_count": 100
        }
      ]
    },
    {
      "cell_type": "code",
      "metadata": {
        "id": "eq6-pAGrXm4W",
        "colab_type": "code",
        "outputId": "d422d080-be4b-4059-91e6-dbea09a92879",
        "colab": {
          "base_uri": "https://localhost:8080/",
          "height": 232
        }
      },
      "source": [
        "#Qual ano teve maior máx de furtos\n",
        "df_clean = df.copy()\n",
        "df_clean.groupby(['vano']).total_furtos.max().sort_values(ascending=False)[:10]"
      ],
      "execution_count": 0,
      "outputs": [
        {
          "output_type": "execute_result",
          "data": {
            "text/plain": [
              "vano\n",
              "2014    18003\n",
              "2012    17863\n",
              "2013    17555\n",
              "2015    17304\n",
              "2011    17300\n",
              "2016    16559\n",
              "2010    16356\n",
              "2019    15395\n",
              "2009    14929\n",
              "2008    14828\n",
              "Name: total_furtos, dtype: int64"
            ]
          },
          "metadata": {
            "tags": []
          },
          "execution_count": 98
        }
      ]
    },
    {
      "cell_type": "code",
      "metadata": {
        "id": "c11JrPpJ3LcQ",
        "colab_type": "code",
        "outputId": "2ce98b53-48de-47c8-b931-a92392171077",
        "colab": {
          "base_uri": "https://localhost:8080/",
          "height": 265
        }
      },
      "source": [
        "df.total_furtos.plot();"
      ],
      "execution_count": 0,
      "outputs": [
        {
          "output_type": "display_data",
          "data": {
            "image/png": "[encoded data removed]",
            "text/plain": [
              "<Figure size 432x288 with 1 Axes>"
            ]
          },
          "metadata": {
            "tags": []
          }
        }
      ]
    },
    {
      "cell_type": "markdown",
      "metadata": {
        "id": "o-PopMtKomny",
        "colab_type": "text"
      },
      "source": [
        "###Roubos e Recuperações de Veículos\n",
        "\n",
        "Roubo é o ato de subtrair coisa móvel alheia, para si ou para outro, mediante grave ameaça ou violência a pessoa (ou não), ou depois de havê-la, por qualquer meio, reduzido à impossibilidade de resistência.\n",
        "\n",
        "Muito se vê nas redes sociais que os veículos subtraídos de seus donos são levados a desmanches e também para morros e favelas onde criminosos desfilam com os mesmos.\n",
        "\n",
        "Agora analisando a tabela **Roubo de Veículos** temos as seguintes conclusões:\n",
        "\n",
        "Sobre o **máximo e mínimo** de roubos por ano:\n",
        "\n",
        "* **Mín**: 1097 roubos\n",
        "* **Máx**: 5358 roubos\n",
        "\n",
        "Os anos que tiveram uma média maior de roubos foram:\n",
        "\n",
        "* **1º 2017** com 4530\n",
        "* **2º 2018** com 4341\n",
        "* **3º 2019** com 3501\n",
        "\n",
        "Sendo que o mês de março tem a maior média de roubos de carros já registrados em todos estes anos.\n",
        "\n",
        "analisando a tabela **Recuperação de Veículos** temos as seguintes conclusões:\n",
        "\n",
        "Sobre o **máximo e mínimo** de recuperações por ano:\n",
        "\n",
        "* **Mín**: 729 recuperações\n",
        "* **Máx**: 3695 recuperações\n",
        "\n",
        "Os anos que tiveram uma média maior de recuperações foram:\n",
        "\n",
        "* **1º 2017** com 3135\n",
        "* **2º 2018** com 3037\n",
        "* **3º 2002** com 2578\n",
        "\n",
        "Sendo então que nos anos de 2017 e 2018 mesmo tendo bastante roubo a veículos o número das recuperações, mesmo que menor, teve um número abrangente.\n",
        "\n",
        "\n",
        "\n"
      ]
    },
    {
      "cell_type": "code",
      "metadata": {
        "id": "fPeo2lN3ovRT",
        "colab_type": "code",
        "outputId": "8981163a-4b0d-40a3-e1c4-383ca9061084",
        "colab": {
          "base_uri": "https://localhost:8080/",
          "height": 50
        }
      },
      "source": [
        "#maximo e minimo sobre roubos de veículos\n",
        "\n",
        "max_roubo_veiculo = df.roubo_veiculo.max()\n",
        "min_roubo_veiculo = df.roubo_veiculo.min()\n",
        "\n",
        "# imprimir os valores máximos e mínimos\n",
        "print(\"Min:\\t{}\".format(min_roubo_veiculo))\n",
        "print(\"Max:\\t{}\".format(max_roubo_veiculo))"
      ],
      "execution_count": 0,
      "outputs": [
        {
          "output_type": "stream",
          "text": [
            "Min:\t1097\n",
            "Max:\t5358\n"
          ],
          "name": "stdout"
        }
      ]
    },
    {
      "cell_type": "code",
      "metadata": {
        "id": "UzZxKQ773yaX",
        "colab_type": "code",
        "outputId": "50e37f1b-c755-4b5a-bb39-11a458d2b10f",
        "colab": {
          "base_uri": "https://localhost:8080/",
          "height": 33
        }
      },
      "source": [
        "df.roubo_veiculo.mean()"
      ],
      "execution_count": 0,
      "outputs": [
        {
          "output_type": "execute_result",
          "data": {
            "text/plain": [
              "2448.6976744186045"
            ]
          },
          "metadata": {
            "tags": []
          },
          "execution_count": 78
        }
      ]
    },
    {
      "cell_type": "code",
      "metadata": {
        "id": "rzWXmPo5pP8T",
        "colab_type": "code",
        "outputId": "11847e63-23db-478d-c27f-cd276bc1980c",
        "colab": {
          "base_uri": "https://localhost:8080/",
          "height": 232
        }
      },
      "source": [
        "#Qual ano teve maior indice de roubo de veículo\n",
        "df_clean = df.copy()\n",
        "df_clean.groupby(['vano']).roubo_veiculo.mean().sort_values(ascending=False)[:10]"
      ],
      "execution_count": 0,
      "outputs": [
        {
          "output_type": "execute_result",
          "data": {
            "text/plain": [
              "vano\n",
              "2017    4530.500000\n",
              "2018    4341.416667\n",
              "2019    3501.500000\n",
              "2016    3474.666667\n",
              "2002    2869.333333\n",
              "2006    2860.333333\n",
              "2003    2794.250000\n",
              "2005    2724.166667\n",
              "2014    2720.916667\n",
              "2004    2700.666667\n",
              "Name: roubo_veiculo, dtype: float64"
            ]
          },
          "metadata": {
            "tags": []
          },
          "execution_count": 102
        }
      ]
    },
    {
      "cell_type": "code",
      "metadata": {
        "id": "Nm3ZFUsXpxTg",
        "colab_type": "code",
        "outputId": "6b0fcdb2-2a4a-4780-96eb-c999d1c8d32b",
        "colab": {
          "base_uri": "https://localhost:8080/",
          "height": 232
        }
      },
      "source": [
        "#Qual mes teve maior indice de roubo de veículo\n",
        "df_clean.groupby(['mes']).roubo_veiculo.mean().sort_values(ascending=False)[:10]"
      ],
      "execution_count": 0,
      "outputs": [
        {
          "output_type": "execute_result",
          "data": {
            "text/plain": [
              "mes\n",
              "3     2690.517241\n",
              "4     2612.689655\n",
              "5     2585.724138\n",
              "1     2493.896552\n",
              "10    2440.750000\n",
              "12    2398.035714\n",
              "6     2383.551724\n",
              "2     2375.310345\n",
              "7     2372.310345\n",
              "11    2362.214286\n",
              "Name: roubo_veiculo, dtype: float64"
            ]
          },
          "metadata": {
            "tags": []
          },
          "execution_count": 107
        }
      ]
    },
    {
      "cell_type": "code",
      "metadata": {
        "id": "RJJIsdmNqKfZ",
        "colab_type": "code",
        "outputId": "59fad2f7-3773-413c-dbe8-465f3f8f865a",
        "colab": {
          "base_uri": "https://localhost:8080/",
          "height": 265
        }
      },
      "source": [
        "df.roubo_veiculo.plot();\n",
        "df.recuperacao_veiculos.plot();"
      ],
      "execution_count": 0,
      "outputs": [
        {
          "output_type": "display_data",
          "data": {
            "image/png": "[encoded data removed]",
            "text/plain": [
              "<Figure size 432x288 with 1 Axes>"
            ]
          },
          "metadata": {
            "tags": []
          }
        }
      ]
    },
    {
      "cell_type": "markdown",
      "metadata": {
        "id": "Su4EOnJDq9I7",
        "colab_type": "text"
      },
      "source": [
        "##Recuperação de Veículos\n"
      ]
    },
    {
      "cell_type": "code",
      "metadata": {
        "id": "oP8TqUxPrFnm",
        "colab_type": "code",
        "outputId": "ee7fd636-a1df-4655-b935-e3342ca42236",
        "colab": {
          "base_uri": "https://localhost:8080/",
          "height": 50
        }
      },
      "source": [
        "#maximo e minimo sobre recuperação de veículos\n",
        "\n",
        "max_recuperacao_veiculos = df.recuperacao_veiculos.max()\n",
        "min_recuperacao_veiculos = df.recuperacao_veiculos.min()\n",
        "\n",
        "# imprimir os valores máximos e mínimos\n",
        "print(\"Min:\\t{}\".format(min_recuperacao_veiculos))\n",
        "print(\"Max:\\t{}\".format(max_recuperacao_veiculos))"
      ],
      "execution_count": 0,
      "outputs": [
        {
          "output_type": "stream",
          "text": [
            "Min:\t729\n",
            "Max:\t3695\n"
          ],
          "name": "stdout"
        }
      ]
    },
    {
      "cell_type": "code",
      "metadata": {
        "id": "h05ZQvT0ugdI",
        "colab_type": "code",
        "outputId": "e664303a-f889-4ef5-e9bc-b2aa5ded3193",
        "colab": {
          "base_uri": "https://localhost:8080/",
          "height": 232
        }
      },
      "source": [
        "#Qual ano teve maior indice de recuperação de veículo\n",
        "df_clean = df.copy()\n",
        "df_clean.groupby(['vano']).recuperacao_veiculos.mean().sort_values(ascending=False)[:10]"
      ],
      "execution_count": 0,
      "outputs": [
        {
          "output_type": "execute_result",
          "data": {
            "text/plain": [
              "vano\n",
              "2017    3135.833333\n",
              "2018    3037.333333\n",
              "2002    2578.750000\n",
              "2003    2495.583333\n",
              "2019    2423.375000\n",
              "2016    2390.833333\n",
              "2004    2210.166667\n",
              "2005    2194.333333\n",
              "2006    2172.750000\n",
              "2014    2102.250000\n",
              "Name: recuperacao_veiculos, dtype: float64"
            ]
          },
          "metadata": {
            "tags": []
          },
          "execution_count": 105
        }
      ]
    },
    {
      "cell_type": "code",
      "metadata": {
        "id": "nSGXQEYXqqyS",
        "colab_type": "code",
        "outputId": "831dfa6e-6733-4d62-c7ae-5389b4921546",
        "colab": {
          "base_uri": "https://localhost:8080/",
          "height": 265
        }
      },
      "source": [
        "df.recuperacao_veiculos.plot();"
      ],
      "execution_count": 0,
      "outputs": [
        {
          "output_type": "display_data",
          "data": {
            "image/png": "[encoded data removed]",
            "text/plain": [
              "<Figure size 432x288 with 1 Axes>"
            ]
          },
          "metadata": {
            "tags": []
          }
        }
      ]
    },
    {
      "cell_type": "markdown",
      "metadata": {
        "id": "y9YtmZkV7nF1",
        "colab_type": "text"
      },
      "source": [
        "###Conclusão\n",
        "\n",
        "Analisando o dado disponibilizado nos deparamos primeiramente com \n",
        "\n",
        "* **344** entradas \n",
        "* **44** colunas. \n",
        "\n",
        "Onde pôde observar pela analise exploratória os seguintes aspectos:\n",
        "Dentre os **anos analisados** que foram: \n",
        "\n",
        "* **1991**\n",
        "* **2019** \n",
        "\n",
        "* A taxa de **homicídio doloso diminuiu** \n",
        "\n",
        "Entretanto o número de:\n",
        "\n",
        "* **tentativas de homicídios** teve uma elevada crescente. \n",
        "\n",
        "A informação que o homicídio doloso tenha diminuído é boa porém muito longe de um cenário ideal para que haja paz e segurança dentre os populares do Rio de Janeiro.\n",
        "\n",
        "A tabela de **furtos** também teve uma **crescente** nestes anos. O agravante neste sentido, entendo como sendo a legislação que em muitos casos mantém o infrator impune. \n",
        "\n",
        "Por último analisei as tabelas de roubos e recuperações de veículos. Notasse pelo gráfico de linha que **ambos caminham basicamente juntos**, apesar de que infelizmente a recuperação seja menor que o número de roubos. O número de roubos cresceu, porém os agentes de segurança pública tem tido êxito em recuperar muitos destes veículos.\n",
        "\n",
        "Visto isto, **concluo que decididamente o Rio de Janeiro enfrenta duras doses de crime** a vários anos mas entendo que a Segurança Pública tem se esforçado para manter a ordem e o legitimo cumprimento da lei.\n",
        "\n",
        "**Aqui deixo meus sinceros agradecimentos aos tantos policiais militares e agentes de segurança pública que deixam suas casas e famílias pelo bem comunitário. Força e honra guerreiros.**\n",
        "<center>\n",
        "\n",
        "Gabriel Augusto Machado\n"
      ]
    }
  ]
}