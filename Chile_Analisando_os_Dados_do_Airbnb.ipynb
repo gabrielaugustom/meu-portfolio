{
  "nbformat": 4,
  "nbformat_minor": 0,
  "metadata": {
    "colab": {
      "name": "Chile_Analisando_os_Dados_do_Airbnb.ipynb",
      "provenance": [],
      "collapsed_sections": [],
      "include_colab_link": true
    },
    "kernelspec": {
      "name": "python3",
      "display_name": "Python 3"
    }
  },
  "cells": [
    {
      "cell_type": "markdown",
      "metadata": {
        "id": "view-in-github",
        "colab_type": "text"
      },
      "source": [
        "<a href=\"https://colab.research.google.com/github/gabrielaugustom/meu-portfolio/blob/master/Chile_Analisando_os_Dados_do_Airbnb.ipynb\" target=\"_parent\"><img src=\"https://colab.research.google.com/assets/colab-badge.svg\" alt=\"Open In Colab\"/></a>"
      ]
    },
    {
      "cell_type": "markdown",
      "metadata": {
        "id": "kLI0gJtzDGuQ",
        "colab_type": "text"
      },
      "source": [
        "\n",
        "# Análise dos Dados do Airbnb - Santiago, Chile\n",
        "\n",
        "O [Airbnb](https://www.airbnb.com.br/) já é considerado como sendo a **maior empresa hoteleira da atualidade**. Ah, o detalhe é que ele **não possui nenhum hotel**!\n",
        "\n",
        "Conectando pessoas que querem viajar (e se hospedar) com anfitriões que querem alugar seus imóveis de maneira prática, o Airbnb fornece uma plataforma inovadora para tornar essa hospedagem alternativa.\n",
        "\n",
        "No final de 2018, a Startup fundada 10 anos atrás, já havia **hospedado mais de 300 milhões** de pessoas ao redor de todo o mundo, desafiando as redes hoteleiras tradicionais.\n",
        "\n",
        "Uma das iniciativas do Airbnb é disponibilizar dados do site, para algumas das principais cidades do mundo. Por meio do portal [Inside Airbnb](http://insideairbnb.com/get-the-data.html), é possível baixar uma grande quantidade de dados para desenvolver projetos e soluções de *Data Science*.\n",
        "\n",
        "<center><img alt=\"Analisando Airbnb\" width=\"10%\" src=\"https://www.area360.com.au/wp-content/uploads/2017/09/airbnb-logo.jpg\"></center>\n",
        "\n",
        "**Neste *notebook*, iremos analisar os dados referentes à cidade Santiago, Chile, e ver quais insights podem ser extraídos a partir de dados brutos.**"
      ]
    },
    {
      "cell_type": "markdown",
      "metadata": {
        "id": "IKx4k97Jhb2Y",
        "colab_type": "text"
      },
      "source": [
        "## <center> Santiago, Chile </center>\n",
        "\n",
        "**Santiago**, capital e **maior cidade** do Chile, fica em um vale circundado pelos Andes cobertos pela neve e a cadeia de montanhas chilena. A Plaza de Armas, o coração do centro velho colonial da cidade, abriga 2 pontos turísticos históricos neoclássicos: o **Palacio de la Real Audiencia** de 1808, sede do **museu de história nacional**, e a **catedral metropolitana** do século 18. *La Chascona* é a casa do poeta Pablo Neruda que foi transformada em museu.\n",
        "\n",
        "População: 5,614 milhões (2017)\n",
        "\n",
        "<center><img alt=\"Analisando Airbnb\" width=\"80%\" src=\"https://gd-chile.sfo2.cdn.digitaloceanspaces.com/2018/06/santiago-chile.jpg\"></center>\n",
        "\n",
        "Santiago tem sido a cidade de escolha dentre tantos brasileiros que desejam conhecer a neve e consequentemente esquiar. Conhecida por seus vinhos e restaurantes que constituem à sua arquitetura uma bela vista para gelereira.\n",
        "\n",
        "Escolha bem onde ficará hospedado para evitar gastar muito tempo em deslocamentos e dinheiro consequentemente. Pontos para conhecer e desbravar não irá faltar.\n",
        "\n",
        "<center><br> \n",
        "\n",
        "Boa viagem </center> </br>"
      ]
    },
    {
      "cell_type": "markdown",
      "metadata": {
        "id": "0zxQHhIUDF_2",
        "colab_type": "text"
      },
      "source": [
        "## Obtenção dos Dados\n"
      ]
    },
    {
      "cell_type": "code",
      "metadata": {
        "id": "Vhp2wMPgJ6zX",
        "colab_type": "code",
        "colab": {}
      },
      "source": [
        "# importar os pacotes necessarios\n",
        "import pandas as pd\n",
        "import matplotlib.pyplot as plt\n",
        "import seaborn as sns\n",
        "%matplotlib inline\n",
        "\n"
      ],
      "execution_count": 0,
      "outputs": []
    },
    {
      "cell_type": "code",
      "metadata": {
        "id": "2uv-7cdWTDwL",
        "colab_type": "code",
        "colab": {}
      },
      "source": [
        "# importar o arquivo listings.csv para um DataFrame\n",
        "df = pd.read_csv(\"http://data.insideairbnb.com/chile/rm/santiago/2019-03-15/visualisations/listings.csv\")"
      ],
      "execution_count": 0,
      "outputs": []
    },
    {
      "cell_type": "markdown",
      "metadata": {
        "id": "qb5By2nIMS6m",
        "colab_type": "text"
      },
      "source": [
        "## Análise dos Dados\n",
        "\n",
        "Esta etapa tem por objetivo criar uma consciência situacional inicial e permitir um entendimento de como os dados estão estruturados."
      ]
    },
    {
      "cell_type": "markdown",
      "metadata": {
        "id": "RYgvuebKNg8-",
        "colab_type": "text"
      },
      "source": [
        "**Dicionário das variáveis**\n",
        "**Dicionário das variáveis** \n",
        "\n",
        "<br>\n",
        "\n",
        "* `id` - número de id gerado para identificar o imóvel\n",
        "* `name` - nome da propriedade anunciada\n",
        "* `host_id` - número de id do proprietário (anfitrião) da propriedade\n",
        "* `host_name` - Nome do anfitrião\n",
        "* `neighbourhood_group` - esta coluna não contém nenhum valor válido\n",
        "* `neighbourhood` - nome do bairro\n",
        "* `latitude` - coordenada da latitude da propriedade\n",
        "* `longitude` - coordenada da longitude da propriedade\n",
        "* `room_type` - informa o tipo de quarto que é oferecido\n",
        "* `price` - preço para alugar o imóvel\n",
        "* `minimum_nights` - quantidade mínima de noites para reservar\n",
        "* `number_of_reviews` - número de reviews que a propriedade possui\n",
        "* `last_review` - data do último review\n",
        "* `reviews_per_month` - quantidade de reviews por mês\n",
        "* `calculated_host_listings_count` - quantidade de imóveis do mesmo anfitrião\n",
        "* `availability_365` - número de dias de disponibilidade dentro de 365 dias\n",
        "\n",
        "<br>\n",
        "\n",
        "Antes de iniciar qualquer análise, vamos verificar a cara do nosso *dataset*, analisando: \n",
        "\n",
        "* 5 primeiras entradas utilizando o head()\n",
        "* 5 últimas entradas utilizando o tail()\n"
      ]
    },
    {
      "cell_type": "code",
      "metadata": {
        "id": "2iS_dae7YQtO",
        "colab_type": "code",
        "outputId": "d3791946-dac4-4254-ae8f-c894b239afb0",
        "colab": {
          "base_uri": "https://localhost:8080/",
          "height": 390
        }
      },
      "source": [
        "# mostrar as 5 primeiras entradas\n",
        "df.head()"
      ],
      "execution_count": 92,
      "outputs": [
        {
          "output_type": "execute_result",
          "data": {
            "text/html": [
              "<div>\n",
              "<style scoped>\n",
              "    .dataframe tbody tr th:only-of-type {\n",
              "        vertical-align: middle;\n",
              "    }\n",
              "\n",
              "    .dataframe tbody tr th {\n",
              "        vertical-align: top;\n",
              "    }\n",
              "\n",
              "    .dataframe thead th {\n",
              "        text-align: right;\n",
              "    }\n",
              "</style>\n",
              "<table border=\"1\" class=\"dataframe\">\n",
              "  <thead>\n",
              "    <tr style=\"text-align: right;\">\n",
              "      <th></th>\n",
              "      <th>id</th>\n",
              "      <th>name</th>\n",
              "      <th>host_id</th>\n",
              "      <th>host_name</th>\n",
              "      <th>neighbourhood_group</th>\n",
              "      <th>neighbourhood</th>\n",
              "      <th>latitude</th>\n",
              "      <th>longitude</th>\n",
              "      <th>room_type</th>\n",
              "      <th>price</th>\n",
              "      <th>minimum_nights</th>\n",
              "      <th>number_of_reviews</th>\n",
              "      <th>last_review</th>\n",
              "      <th>reviews_per_month</th>\n",
              "      <th>calculated_host_listings_count</th>\n",
              "      <th>availability_365</th>\n",
              "    </tr>\n",
              "  </thead>\n",
              "  <tbody>\n",
              "    <tr>\n",
              "      <th>0</th>\n",
              "      <td>14576</td>\n",
              "      <td>Dp Valen Castillo 1600</td>\n",
              "      <td>14972</td>\n",
              "      <td>Bruno</td>\n",
              "      <td>NaN</td>\n",
              "      <td>Santiago</td>\n",
              "      <td>-33.46413</td>\n",
              "      <td>-70.64869</td>\n",
              "      <td>Entire home/apt</td>\n",
              "      <td>67025</td>\n",
              "      <td>5</td>\n",
              "      <td>0</td>\n",
              "      <td>NaN</td>\n",
              "      <td>NaN</td>\n",
              "      <td>1</td>\n",
              "      <td>363</td>\n",
              "    </tr>\n",
              "    <tr>\n",
              "      <th>1</th>\n",
              "      <td>34552</td>\n",
              "      <td>Big nd nice room + private bathroom</td>\n",
              "      <td>149223</td>\n",
              "      <td>Gladys</td>\n",
              "      <td>NaN</td>\n",
              "      <td>Santiago</td>\n",
              "      <td>-33.46354</td>\n",
              "      <td>-70.64851</td>\n",
              "      <td>Private room</td>\n",
              "      <td>32172</td>\n",
              "      <td>3</td>\n",
              "      <td>0</td>\n",
              "      <td>NaN</td>\n",
              "      <td>NaN</td>\n",
              "      <td>1</td>\n",
              "      <td>365</td>\n",
              "    </tr>\n",
              "    <tr>\n",
              "      <th>2</th>\n",
              "      <td>47936</td>\n",
              "      <td>My Flat in English</td>\n",
              "      <td>218471</td>\n",
              "      <td>Nelsk</td>\n",
              "      <td>NaN</td>\n",
              "      <td>Santiago</td>\n",
              "      <td>-33.44791</td>\n",
              "      <td>-70.63547</td>\n",
              "      <td>Private room</td>\n",
              "      <td>36864</td>\n",
              "      <td>1</td>\n",
              "      <td>0</td>\n",
              "      <td>NaN</td>\n",
              "      <td>NaN</td>\n",
              "      <td>1</td>\n",
              "      <td>365</td>\n",
              "    </tr>\n",
              "    <tr>\n",
              "      <th>3</th>\n",
              "      <td>49392</td>\n",
              "      <td>Share my Flat in Providencia</td>\n",
              "      <td>224592</td>\n",
              "      <td>Maria</td>\n",
              "      <td>NaN</td>\n",
              "      <td>Providencia</td>\n",
              "      <td>-33.43266</td>\n",
              "      <td>-70.60072</td>\n",
              "      <td>Private room</td>\n",
              "      <td>36864</td>\n",
              "      <td>3</td>\n",
              "      <td>0</td>\n",
              "      <td>NaN</td>\n",
              "      <td>NaN</td>\n",
              "      <td>3</td>\n",
              "      <td>178</td>\n",
              "    </tr>\n",
              "    <tr>\n",
              "      <th>4</th>\n",
              "      <td>50466</td>\n",
              "      <td>Great apartment at a great location</td>\n",
              "      <td>231631</td>\n",
              "      <td>Marco</td>\n",
              "      <td>NaN</td>\n",
              "      <td>Santiago</td>\n",
              "      <td>-33.43630</td>\n",
              "      <td>-70.65390</td>\n",
              "      <td>Entire home/apt</td>\n",
              "      <td>56971</td>\n",
              "      <td>1</td>\n",
              "      <td>0</td>\n",
              "      <td>NaN</td>\n",
              "      <td>NaN</td>\n",
              "      <td>1</td>\n",
              "      <td>365</td>\n",
              "    </tr>\n",
              "  </tbody>\n",
              "</table>\n",
              "</div>"
            ],
            "text/plain": [
              "      id  ... availability_365\n",
              "0  14576  ...              363\n",
              "1  34552  ...              365\n",
              "2  47936  ...              365\n",
              "3  49392  ...              178\n",
              "4  50466  ...              365\n",
              "\n",
              "[5 rows x 16 columns]"
            ]
          },
          "metadata": {
            "tags": []
          },
          "execution_count": 92
        }
      ]
    },
    {
      "cell_type": "code",
      "metadata": {
        "id": "O6HX6OD5m1Kk",
        "colab_type": "code",
        "outputId": "9fee5227-f5cc-4742-b2b1-b99ac79659ae",
        "colab": {
          "base_uri": "https://localhost:8080/",
          "height": 438
        }
      },
      "source": [
        "# mostrar as 5 últimas entradas\n",
        "df.tail()"
      ],
      "execution_count": 93,
      "outputs": [
        {
          "output_type": "execute_result",
          "data": {
            "text/html": [
              "<div>\n",
              "<style scoped>\n",
              "    .dataframe tbody tr th:only-of-type {\n",
              "        vertical-align: middle;\n",
              "    }\n",
              "\n",
              "    .dataframe tbody tr th {\n",
              "        vertical-align: top;\n",
              "    }\n",
              "\n",
              "    .dataframe thead th {\n",
              "        text-align: right;\n",
              "    }\n",
              "</style>\n",
              "<table border=\"1\" class=\"dataframe\">\n",
              "  <thead>\n",
              "    <tr style=\"text-align: right;\">\n",
              "      <th></th>\n",
              "      <th>id</th>\n",
              "      <th>name</th>\n",
              "      <th>host_id</th>\n",
              "      <th>host_name</th>\n",
              "      <th>neighbourhood_group</th>\n",
              "      <th>neighbourhood</th>\n",
              "      <th>latitude</th>\n",
              "      <th>longitude</th>\n",
              "      <th>room_type</th>\n",
              "      <th>price</th>\n",
              "      <th>minimum_nights</th>\n",
              "      <th>number_of_reviews</th>\n",
              "      <th>last_review</th>\n",
              "      <th>reviews_per_month</th>\n",
              "      <th>calculated_host_listings_count</th>\n",
              "      <th>availability_365</th>\n",
              "    </tr>\n",
              "  </thead>\n",
              "  <tbody>\n",
              "    <tr>\n",
              "      <th>15785</th>\n",
              "      <td>33075373</td>\n",
              "      <td>El sueño del descanso, hecho realidad</td>\n",
              "      <td>248922660</td>\n",
              "      <td>Miguel Gustavo</td>\n",
              "      <td>NaN</td>\n",
              "      <td>Maipú</td>\n",
              "      <td>-33.48838</td>\n",
              "      <td>-70.77322</td>\n",
              "      <td>Entire home/apt</td>\n",
              "      <td>77749</td>\n",
              "      <td>1</td>\n",
              "      <td>0</td>\n",
              "      <td>NaN</td>\n",
              "      <td>NaN</td>\n",
              "      <td>1</td>\n",
              "      <td>180</td>\n",
              "    </tr>\n",
              "    <tr>\n",
              "      <th>15786</th>\n",
              "      <td>33075903</td>\n",
              "      <td>Amplia habitación en La Reina</td>\n",
              "      <td>145237978</td>\n",
              "      <td>Claudio</td>\n",
              "      <td>NaN</td>\n",
              "      <td>La Reina</td>\n",
              "      <td>-33.44378</td>\n",
              "      <td>-70.55774</td>\n",
              "      <td>Private room</td>\n",
              "      <td>10724</td>\n",
              "      <td>2</td>\n",
              "      <td>0</td>\n",
              "      <td>NaN</td>\n",
              "      <td>NaN</td>\n",
              "      <td>3</td>\n",
              "      <td>365</td>\n",
              "    </tr>\n",
              "    <tr>\n",
              "      <th>15787</th>\n",
              "      <td>33076354</td>\n",
              "      <td>Confortable Room La Dehesa 3000</td>\n",
              "      <td>235791101</td>\n",
              "      <td>Karin</td>\n",
              "      <td>NaN</td>\n",
              "      <td>Lo Barnechea</td>\n",
              "      <td>-33.34522</td>\n",
              "      <td>-70.52196</td>\n",
              "      <td>Private room</td>\n",
              "      <td>60322</td>\n",
              "      <td>2</td>\n",
              "      <td>0</td>\n",
              "      <td>NaN</td>\n",
              "      <td>NaN</td>\n",
              "      <td>3</td>\n",
              "      <td>173</td>\n",
              "    </tr>\n",
              "    <tr>\n",
              "      <th>15788</th>\n",
              "      <td>33076379</td>\n",
              "      <td>Home La Dehesa 3000  Best Residential zone</td>\n",
              "      <td>235791101</td>\n",
              "      <td>Karin</td>\n",
              "      <td>NaN</td>\n",
              "      <td>Lo Barnechea</td>\n",
              "      <td>-33.34522</td>\n",
              "      <td>-70.52196</td>\n",
              "      <td>Entire home/apt</td>\n",
              "      <td>150136</td>\n",
              "      <td>2</td>\n",
              "      <td>0</td>\n",
              "      <td>NaN</td>\n",
              "      <td>NaN</td>\n",
              "      <td>3</td>\n",
              "      <td>358</td>\n",
              "    </tr>\n",
              "    <tr>\n",
              "      <th>15789</th>\n",
              "      <td>33078465</td>\n",
              "      <td>Cómodo Departamento en Centro de Santiago</td>\n",
              "      <td>214634589</td>\n",
              "      <td>Rodolfo</td>\n",
              "      <td>NaN</td>\n",
              "      <td>Santiago</td>\n",
              "      <td>-33.45043</td>\n",
              "      <td>-70.64979</td>\n",
              "      <td>Entire home/apt</td>\n",
              "      <td>25469</td>\n",
              "      <td>2</td>\n",
              "      <td>0</td>\n",
              "      <td>NaN</td>\n",
              "      <td>NaN</td>\n",
              "      <td>3</td>\n",
              "      <td>153</td>\n",
              "    </tr>\n",
              "  </tbody>\n",
              "</table>\n",
              "</div>"
            ],
            "text/plain": [
              "             id  ... availability_365\n",
              "15785  33075373  ...              180\n",
              "15786  33075903  ...              365\n",
              "15787  33076354  ...              173\n",
              "15788  33076379  ...              358\n",
              "15789  33078465  ...              153\n",
              "\n",
              "[5 rows x 16 columns]"
            ]
          },
          "metadata": {
            "tags": []
          },
          "execution_count": 93
        }
      ]
    },
    {
      "cell_type": "markdown",
      "metadata": {
        "id": "6-B_qtEaYEd-",
        "colab_type": "text"
      },
      "source": [
        "### **Q1. Quantos atributos (variáveis) e quantas entradas o nosso conjunto de dados possui? Quais os tipos das variáveis?**"
      ]
    },
    {
      "cell_type": "markdown",
      "metadata": {
        "id": "1CekEtlkxTsS",
        "colab_type": "text"
      },
      "source": [
        "Nosso DataSet possui **15.790** variáveis e **16** entradas ou tabelas. Dispostas entre *int* e *float* e *object* descritas abaixo."
      ]
    },
    {
      "cell_type": "code",
      "metadata": {
        "id": "TFRK0tniLV-G",
        "colab_type": "code",
        "outputId": "2d87ea3f-28c2-4843-aa82-32b96f466a1e",
        "colab": {
          "base_uri": "https://localhost:8080/",
          "height": 342
        }
      },
      "source": [
        "# identificar o volume de dados do DataFrame\n",
        "print(\"Variáveis:\\t {}\".format(df.shape[0]))\n",
        "print(\"Entradas:\\t {}\\n\".format(df.shape[1]))\n",
        "\n",
        "# identificar os tipos de váriaveis presentes nos dados do DataFrame\n",
        "df.dtypes.sort_values()"
      ],
      "execution_count": 94,
      "outputs": [
        {
          "output_type": "stream",
          "text": [
            "Variáveis:\t 15790\n",
            "Entradas:\t 16\n",
            "\n"
          ],
          "name": "stdout"
        },
        {
          "output_type": "execute_result",
          "data": {
            "text/plain": [
              "id                                  int64\n",
              "host_id                             int64\n",
              "price                               int64\n",
              "minimum_nights                      int64\n",
              "number_of_reviews                   int64\n",
              "calculated_host_listings_count      int64\n",
              "availability_365                    int64\n",
              "neighbourhood_group               float64\n",
              "latitude                          float64\n",
              "longitude                         float64\n",
              "reviews_per_month                 float64\n",
              "name                               object\n",
              "host_name                          object\n",
              "neighbourhood                      object\n",
              "room_type                          object\n",
              "last_review                        object\n",
              "dtype: object"
            ]
          },
          "metadata": {
            "tags": []
          },
          "execution_count": 94
        }
      ]
    },
    {
      "cell_type": "markdown",
      "metadata": {
        "id": "yz1urSUGW9iE",
        "colab_type": "text"
      },
      "source": [
        "### **Q2. Qual a porcentagem de valores ausentes no *dataset*?**\n",
        "\n",
        "A **qualidade** de um *dataset* está diretamente relacionada à **quantidade de valores ausentes**. É importante entender logo no início se esses valores nulos são significativos comparados ao total de entradas.\n",
        "\n",
        "* É possível ver que a coluna `neighbourhood_group` possui 100% dos seus valores faltantes. \n",
        "* As variáveis `reviews_per_month` e `last_review` possuem valores nulos em quase metade das linhas.\n",
        "* As variáveis `name` e `host_name` têm aproximadamente 0,1% dos valores nulos.\n"
      ]
    },
    {
      "cell_type": "code",
      "metadata": {
        "id": "plk2FjbCXOqP",
        "colab_type": "code",
        "outputId": "3447d549-f76f-4f55-8c29-a8f6b9b7139e",
        "colab": {
          "base_uri": "https://localhost:8080/",
          "height": 293
        }
      },
      "source": [
        "# ordenar em ordem decrescente as variáveis por seus valores ausentes\n",
        "(df.isnull().sum() / df.shape[0]).sort_values(ascending=False)"
      ],
      "execution_count": 95,
      "outputs": [
        {
          "output_type": "execute_result",
          "data": {
            "text/plain": [
              "neighbourhood_group               1.000000\n",
              "reviews_per_month                 0.437619\n",
              "last_review                       0.437619\n",
              "name                              0.000887\n",
              "host_name                         0.000317\n",
              "availability_365                  0.000000\n",
              "calculated_host_listings_count    0.000000\n",
              "number_of_reviews                 0.000000\n",
              "minimum_nights                    0.000000\n",
              "price                             0.000000\n",
              "room_type                         0.000000\n",
              "longitude                         0.000000\n",
              "latitude                          0.000000\n",
              "neighbourhood                     0.000000\n",
              "host_id                           0.000000\n",
              "id                                0.000000\n",
              "dtype: float64"
            ]
          },
          "metadata": {
            "tags": []
          },
          "execution_count": 95
        }
      ]
    },
    {
      "cell_type": "markdown",
      "metadata": {
        "id": "iHXvvHIxaoNc",
        "colab_type": "text"
      },
      "source": [
        "### **Q3. Qual o tipo de distribuição das variáveis?** \n",
        "\n",
        "\n",
        "Para identificar a distribuição das variáveis, irei plotar o histograma.\n",
        "\n",
        "Vale lembrar que analisando as tabelas presentes no *DataSet* temos quatro tabelas que é quantificada numericamento porém não tem sentido algum quando plotado no histograma, por exemplo a *host_id* \n",
        "\n",
        "Portando para melhor sentido ter o histograma colocarei somente apenas as tabelas que tem sentido numerico. \n",
        "\n"
      ]
    },
    {
      "cell_type": "code",
      "metadata": {
        "id": "q2wWSfeRbmBo",
        "colab_type": "code",
        "outputId": "0c4642fa-70b1-4f0c-afd2-67cdf979804b",
        "colab": {
          "base_uri": "https://localhost:8080/",
          "height": 622
        }
      },
      "source": [
        "# plotar o histograma das variáveis numéricas\n",
        "df[['availability_365', 'calculated_host_listings_count', 'minimum_nights', 'number_of_reviews', 'price', 'reviews_per_month']].hist(bins=15, figsize=(15,10));"
      ],
      "execution_count": 96,
      "outputs": [
        {
          "output_type": "display_data",
          "data": {
            "image/png": "[encoded data removed]",
            "text/plain": [
              "<Figure size 1080x720 with 6 Axes>"
            ]
          },
          "metadata": {
            "tags": []
          }
        }
      ]
    },
    {
      "cell_type": "markdown",
      "metadata": {
        "id": "e5uco640_1Pc",
        "colab_type": "text"
      },
      "source": [
        "De acordo com os histogramas é possível observar que:\n",
        "\n",
        "* **calculated_host_listings_count:** quantidade de imóveis anunciados que o anfitrião do imóvel possui. Com isso entendemos que existem muitos anfitriões com poucos imóveis anunciados. Por outro lado temos que existem poucos anfitrições que são donos de muitos imóveis.\n",
        "\n",
        "* **minimum_nights**: número de noites mínimas necessárias para alugar o imóvel. Vimos que muitos alugueis a gente precisa apenas de poucos noites disponíveis para o aluguel, e algumas datas que precisem de 200, 600 e até 1000 noites. O que sugere que aqui encontraremos *Outliers*\n",
        "\n",
        "* **availability_365**: número de dias no ano em que o imóvel fica disponível para locação. Entendo aqui que o número de disponibilidade dos imóveis durante o ano é baixa. Tendo apenas um pique no final da leitura dos dados.\n"
      ]
    },
    {
      "cell_type": "markdown",
      "metadata": {
        "id": "5RYAtclAtfJr",
        "colab_type": "text"
      },
      "source": [
        "### Q4. Analisando Outliers\n",
        "\n",
        "Pela distribuição do histograma, é possível verificar **indícios da presença de outliers**. Olhe por exemplo as variáveis *price, minimum_nights e calculated_host_listings_count*.\n",
        "\n",
        "Os valores **não seguem uma distruição**, e distorcem toda a representação gráfica. Para confirmar, há duas maneiras rápidas que auxiliam a detecção de outliers. São elas:\n",
        "\n",
        "* Resumo estatístico por meio do método describe()\n",
        "* Plotar boxplots para a variável."
      ]
    },
    {
      "cell_type": "code",
      "metadata": {
        "id": "ybtSbkEKt4bM",
        "colab_type": "code",
        "outputId": "d7724ca9-d6f1-4bc1-c053-987dd2b5b6f9",
        "colab": {
          "base_uri": "https://localhost:8080/",
          "height": 277
        }
      },
      "source": [
        "# Resumo estatístico das variáveis numéricas via método discribe\n",
        "\n",
        "df[['price', 'minimum_nights', 'number_of_reviews', 'reviews_per_month',\n",
        "    'calculated_host_listings_count', 'availability_365']].describe()"
      ],
      "execution_count": 97,
      "outputs": [
        {
          "output_type": "execute_result",
          "data": {
            "text/html": [
              "<div>\n",
              "<style scoped>\n",
              "    .dataframe tbody tr th:only-of-type {\n",
              "        vertical-align: middle;\n",
              "    }\n",
              "\n",
              "    .dataframe tbody tr th {\n",
              "        vertical-align: top;\n",
              "    }\n",
              "\n",
              "    .dataframe thead th {\n",
              "        text-align: right;\n",
              "    }\n",
              "</style>\n",
              "<table border=\"1\" class=\"dataframe\">\n",
              "  <thead>\n",
              "    <tr style=\"text-align: right;\">\n",
              "      <th></th>\n",
              "      <th>price</th>\n",
              "      <th>minimum_nights</th>\n",
              "      <th>number_of_reviews</th>\n",
              "      <th>reviews_per_month</th>\n",
              "      <th>calculated_host_listings_count</th>\n",
              "      <th>availability_365</th>\n",
              "    </tr>\n",
              "  </thead>\n",
              "  <tbody>\n",
              "    <tr>\n",
              "      <th>count</th>\n",
              "      <td>1.579000e+04</td>\n",
              "      <td>15790.000000</td>\n",
              "      <td>15790.000000</td>\n",
              "      <td>8880.000000</td>\n",
              "      <td>15790.000000</td>\n",
              "      <td>15790.000000</td>\n",
              "    </tr>\n",
              "    <tr>\n",
              "      <th>mean</th>\n",
              "      <td>7.127307e+04</td>\n",
              "      <td>5.084864</td>\n",
              "      <td>10.664725</td>\n",
              "      <td>1.219730</td>\n",
              "      <td>7.512730</td>\n",
              "      <td>225.009246</td>\n",
              "    </tr>\n",
              "    <tr>\n",
              "      <th>std</th>\n",
              "      <td>1.574417e+06</td>\n",
              "      <td>29.440156</td>\n",
              "      <td>25.302336</td>\n",
              "      <td>1.435516</td>\n",
              "      <td>26.243083</td>\n",
              "      <td>143.189742</td>\n",
              "    </tr>\n",
              "    <tr>\n",
              "      <th>min</th>\n",
              "      <td>0.000000e+00</td>\n",
              "      <td>1.000000</td>\n",
              "      <td>0.000000</td>\n",
              "      <td>0.010000</td>\n",
              "      <td>1.000000</td>\n",
              "      <td>0.000000</td>\n",
              "    </tr>\n",
              "    <tr>\n",
              "      <th>25%</th>\n",
              "      <td>1.876700e+04</td>\n",
              "      <td>1.000000</td>\n",
              "      <td>0.000000</td>\n",
              "      <td>0.220000</td>\n",
              "      <td>1.000000</td>\n",
              "      <td>88.000000</td>\n",
              "    </tr>\n",
              "    <tr>\n",
              "      <th>50%</th>\n",
              "      <td>3.016100e+04</td>\n",
              "      <td>2.000000</td>\n",
              "      <td>1.000000</td>\n",
              "      <td>0.660000</td>\n",
              "      <td>1.000000</td>\n",
              "      <td>287.000000</td>\n",
              "    </tr>\n",
              "    <tr>\n",
              "      <th>75%</th>\n",
              "      <td>4.021500e+04</td>\n",
              "      <td>3.000000</td>\n",
              "      <td>8.000000</td>\n",
              "      <td>1.752500</td>\n",
              "      <td>3.000000</td>\n",
              "      <td>363.000000</td>\n",
              "    </tr>\n",
              "    <tr>\n",
              "      <th>max</th>\n",
              "      <td>1.838887e+08</td>\n",
              "      <td>1100.000000</td>\n",
              "      <td>389.000000</td>\n",
              "      <td>11.700000</td>\n",
              "      <td>201.000000</td>\n",
              "      <td>365.000000</td>\n",
              "    </tr>\n",
              "  </tbody>\n",
              "</table>\n",
              "</div>"
            ],
            "text/plain": [
              "              price  ...  availability_365\n",
              "count  1.579000e+04  ...      15790.000000\n",
              "mean   7.127307e+04  ...        225.009246\n",
              "std    1.574417e+06  ...        143.189742\n",
              "min    0.000000e+00  ...          0.000000\n",
              "25%    1.876700e+04  ...         88.000000\n",
              "50%    3.016100e+04  ...        287.000000\n",
              "75%    4.021500e+04  ...        363.000000\n",
              "max    1.838887e+08  ...        365.000000\n",
              "\n",
              "[8 rows x 6 columns]"
            ]
          },
          "metadata": {
            "tags": []
          },
          "execution_count": 97
        }
      ]
    },
    {
      "cell_type": "markdown",
      "metadata": {
        "id": "t___KZYjiIuT",
        "colab_type": "text"
      },
      "source": [
        "Analisando este resumo podemos observar que: \n",
        "\n",
        "* *price*: tem uma média de 7.12. Número maior que o representado nos 50%. O mínimo está com número igual a 0. Não faz sendido a presença de imóveis com valor dessa magnitude.\n",
        "\n",
        "* *minimum_nights* O mínimo está representado pelo valor de 1 sendo o máximo por 1100. Essa discrepancia sinaliza a possibilidade de *Outliers* no DataSet."
      ]
    },
    {
      "cell_type": "markdown",
      "metadata": {
        "id": "tzwu2vPLpgpx",
        "colab_type": "text"
      },
      "source": [
        "###Q5. Boxplot para minimum_nights\n",
        "\n"
      ]
    },
    {
      "cell_type": "code",
      "metadata": {
        "id": "KhuFA9sXpQXk",
        "colab_type": "code",
        "outputId": "8a2c708b-d21e-4af1-d9f4-1ed3f1ed0d34",
        "colab": {
          "base_uri": "https://localhost:8080/",
          "height": 261
        }
      },
      "source": [
        "# minimum_nights\n",
        "df.minimum_nights.plot(kind='box', vert=False, figsize=(15, 3))\n",
        "plt.show()\n",
        "\n",
        "# ver quantidade de valores acima de 30 dias para minimum_nights\n",
        "print(\"minimum_nights: valores acima de 30:\")\n",
        "print(\"{} entradas\".format(len(df[df.minimum_nights > 30])))\n",
        "print(\"{:.4f}%\".format((len(df[df.minimum_nights > 30]) / df.shape[0])*100))"
      ],
      "execution_count": 98,
      "outputs": [
        {
          "output_type": "display_data",
          "data": {
            "image/png": "[encoded data removed]",
            "text/plain": [
              "<Figure size 1080x216 with 1 Axes>"
            ]
          },
          "metadata": {
            "tags": []
          }
        },
        {
          "output_type": "stream",
          "text": [
            "minimum_nights: valores acima de 30:\n",
            "226 entradas\n",
            "1.4313%\n"
          ],
          "name": "stdout"
        }
      ]
    },
    {
      "cell_type": "markdown",
      "metadata": {
        "id": "R6VmLX48nFFL",
        "colab_type": "text"
      },
      "source": [
        "Entendendo este Boxplot sobre a váriavel de *minimum_ninghts*\n",
        "\n",
        "Percebemos que existem 226 entradas acima de 30 dias para mínimo da noite. Logicamente que ao utilizar o AIRBNB você tenha uma experiência de apenas 3 noites para a viagem mas ainda assim existem imóveis disponiveis para mais dias."
      ]
    },
    {
      "cell_type": "markdown",
      "metadata": {
        "id": "JxDBFdXkp-VW",
        "colab_type": "text"
      },
      "source": [
        "###Q6. Boxplot para price\n"
      ]
    },
    {
      "cell_type": "code",
      "metadata": {
        "id": "5WFi5sHmqGUf",
        "colab_type": "code",
        "outputId": "5853413b-47c3-41d1-9541-45357d4fbb26",
        "colab": {
          "base_uri": "https://localhost:8080/",
          "height": 291
        }
      },
      "source": [
        "# price\n",
        "df.price.plot(kind='box', vert=False, figsize=(15, 3),)\n",
        "plt.show()\n",
        "\n",
        "# ver quantidade de valores acima de 1340 para price\n",
        "print(\"\\nprice: valores acima de 1340\")\n",
        "print(\"{} entradas\".format(len(df[df.price > 1340])))\n",
        "print(\"{:.4f}%\".format((len(df[df.price > 1340]) / df.shape[0])*100))\n",
        "\n",
        "# df.price.plot(kind='box', vert=False, xlim=(0,1300), figsize=(15,3));"
      ],
      "execution_count": 99,
      "outputs": [
        {
          "output_type": "display_data",
          "data": {
            "image/png": "[encoded data removed]",
            "text/plain": [
              "<Figure size 1080x216 with 1 Axes>"
            ]
          },
          "metadata": {
            "tags": []
          }
        },
        {
          "output_type": "stream",
          "text": [
            "\n",
            "price: valores acima de 1340\n",
            "15785 entradas\n",
            "99.9683%\n"
          ],
          "name": "stdout"
        }
      ]
    },
    {
      "cell_type": "markdown",
      "metadata": {
        "id": "VXFfbktFtZyV",
        "colab_type": "text"
      },
      "source": [
        "A tabela de preços deste *dataframe* me deixou bastante intrigado pelo tamanho dos numerais contidos nela. Visto que não conheço qual a moeda utilizada neste dado, iniciei uma analise exploratória afim de identificar padrões que sanassem dúvidas como: \n",
        "\n",
        "* 1. **Qual o maior valor encontrado em *price*?** Utilizando a função head() para mostrar somente os 5 maiores valores.\n",
        "* 2. **Qual imóvel seria este e todos os seus dados?** Pedindo então para que identificado o valor mais alto em *price* para me mostrar esta linha.\n",
        "\n",
        "\n"
      ]
    },
    {
      "cell_type": "code",
      "metadata": {
        "id": "6qLCO0zJryYt",
        "colab_type": "code",
        "outputId": "aac8d4a8-4e17-4df2-8e10-b7b9530af722",
        "colab": {
          "base_uri": "https://localhost:8080/",
          "height": 115
        }
      },
      "source": [
        "#Tabela price do dataframe para identificar o valor mais alto\n",
        "\n",
        "df.price.sort_values(ascending=False).head()"
      ],
      "execution_count": 100,
      "outputs": [
        {
          "output_type": "execute_result",
          "data": {
            "text/plain": [
              "10774    183888741\n",
              "6805      40214917\n",
              "6227      36960190\n",
              "6077      23458702\n",
              "8210      14149619\n",
              "Name: price, dtype: int64"
            ]
          },
          "metadata": {
            "tags": []
          },
          "execution_count": 100
        }
      ]
    },
    {
      "cell_type": "markdown",
      "metadata": {
        "id": "tIXPjTccwnU7",
        "colab_type": "text"
      },
      "source": [
        "Também achei importante vericar via função tail() quais são os imóveis mais baratos de Santiago. \n",
        "\n",
        "Com isto identificamos na tabela *price* que **04 linhas estão com valores zerados.**\n",
        "\n",
        "E os identifiquei para melhor visualização da tabela."
      ]
    },
    {
      "cell_type": "code",
      "metadata": {
        "id": "rGsAcUSCw3bE",
        "colab_type": "code",
        "outputId": "17b62eef-4472-45fb-dd3e-c3b6e40a1716",
        "colab": {
          "base_uri": "https://localhost:8080/",
          "height": 521
        }
      },
      "source": [
        "df.price.sort_values(ascending=False).tail(30)"
      ],
      "execution_count": 101,
      "outputs": [
        {
          "output_type": "execute_result",
          "data": {
            "text/plain": [
              "12148    6702\n",
              "12543    6702\n",
              "8329     6702\n",
              "11225    6702\n",
              "7401     6702\n",
              "7403     6702\n",
              "5372     6702\n",
              "11897    6702\n",
              "11213    6702\n",
              "15152    6702\n",
              "1476     6702\n",
              "10754    6032\n",
              "9277     6032\n",
              "7542     6032\n",
              "8627     6032\n",
              "9374     6032\n",
              "10278    6032\n",
              "8988     6032\n",
              "9699     6032\n",
              "6416     6032\n",
              "8724     6032\n",
              "9484     6032\n",
              "10097    6032\n",
              "7784     5362\n",
              "10492    2681\n",
              "10704    1340\n",
              "7386        0\n",
              "2271        0\n",
              "11274       0\n",
              "5383        0\n",
              "Name: price, dtype: int64"
            ]
          },
          "metadata": {
            "tags": []
          },
          "execution_count": 101
        }
      ]
    },
    {
      "cell_type": "markdown",
      "metadata": {
        "id": "eXDWI8BqyH9I",
        "colab_type": "text"
      },
      "source": [
        "Analisando os **30 menores valores contidos** em *price* observei o padrão de valor igual a: **6702**. Com isto fiz um novo bloxplot com este valor para analisar se existe diferença entre o primeiro feito e o novo que segue abaixo: "
      ]
    },
    {
      "cell_type": "code",
      "metadata": {
        "id": "2il-xT66yob7",
        "colab_type": "code",
        "outputId": "682f0801-8f12-44bc-a885-2cf25979fcc0",
        "colab": {
          "base_uri": "https://localhost:8080/",
          "height": 291
        }
      },
      "source": [
        "# price\n",
        "df.price.plot(kind='box', vert=False, figsize=(15, 3),)\n",
        "plt.show()\n",
        "\n",
        "# ver quantidade de valores acima de 6702 para price\n",
        "print(\"\\nprice: valores acima de 6702\")\n",
        "print(\"{} entradas\".format(len(df[df.price > 6702])))\n",
        "print(\"{:.4f}%\".format((len(df[df.price > 6702]) / df.shape[0])*100))\n",
        "\n",
        "# df.price.plot(kind='box', vert=False, xlim=(0,1300), figsize=(15,3));"
      ],
      "execution_count": 102,
      "outputs": [
        {
          "output_type": "display_data",
          "data": {
            "image/png": "[encoded data removed]",
            "text/plain": [
              "<Figure size 1080x216 with 1 Axes>"
            ]
          },
          "metadata": {
            "tags": []
          }
        },
        {
          "output_type": "stream",
          "text": [
            "\n",
            "price: valores acima de 6702\n",
            "15663 entradas\n",
            "99.1957%\n"
          ],
          "name": "stdout"
        }
      ]
    },
    {
      "cell_type": "markdown",
      "metadata": {
        "id": "IXRKfR9Vo8yn",
        "colab_type": "text"
      },
      "source": [
        "Dado que identificados muitos dos valores de algueis sendo iguais, utilizei a o *unique()* para ter uma visão geral de como estão sendo dispostos os valores encontrados."
      ]
    },
    {
      "cell_type": "code",
      "metadata": {
        "id": "Oiyhpuo_jBKk",
        "colab_type": "code",
        "outputId": "a66dcdfc-f5c3-4393-f217-82ff5296a8df",
        "colab": {
          "base_uri": "https://localhost:8080/",
          "height": 846
        }
      },
      "source": [
        "df.price.unique()"
      ],
      "execution_count": 103,
      "outputs": [
        {
          "output_type": "execute_result",
          "data": {
            "text/plain": [
              "array([    67025,     32172,     36864,     56971,     50269,     38874,\n",
              "           28150,     73727,     53620,     22788,     40215,     39545,\n",
              "           46917,     18097,     97186,     23459,     26810,     30161,\n",
              "           20107,     48928,     32842,     47588,    187670,     33512,\n",
              "           43566,     13405,     25469,     12064,    134050,     63674,\n",
              "           45577,     24799,     46247,     79760,     60322,     80430,\n",
              "           21448,     16756,     10724,     34853,     22118,     34183,\n",
              "           38204,     18767,     58312,     35523,    105229,     26140,\n",
              "           30831,    100537,    160860,      8713,    107240,     65014,\n",
              "          113942,     29491,    247992,     57641,     91824,     36193,\n",
              "           69036,     16086,     14745,     91154,    368637,     44236,\n",
              "           90484,     28821,      8043,     15416,     10054,     12735,\n",
              "           52950,     37534,     99197,      9383,     83781,     19437,\n",
              "           42896,     20778,     24129,    194372,     42226,    111932,\n",
              "           77749,     31502,     54960,     14075,     52279,    140752,\n",
              "          234587,     93835,     40885,     17426,    144103,     11394,\n",
              "           44907,     70376,     51609,   1910209,    416224,     75068,\n",
              "          402149,    167562,     27480,    157508,   6702486,    147455,\n",
              "           56301,     64344,     66355,    298931,     59652,     87132,\n",
              "           77079,    268099,     81770,    127347,     49598,     73057,\n",
              "          150806,     54290,    120645,     79089,    341827,     93165,\n",
              "           99867,    223863,     78419,     60993,    585797,     92494,\n",
              "          111261,     41555,   5361989,    119975,    201075,     48258,\n",
              "          580435,    335124,     50939,    123996,    217161,     63003,\n",
              "           55631,    209788,     75738,   5026865,      7373,    284856,\n",
              "          102548,    128688,   1634736,    110591,    117294,     67695,\n",
              "            6702,     71717,    517432,    219171,     85792,     82441,\n",
              "           81100,    106570,     84451,    183648,    130698,    115283,\n",
              "          246651,     85122,    270110,    469174,     88473,    321719,\n",
              "           69706,    154157,     65684,    144774,    180297,    435662,\n",
              "               0,   1122666,    197723,    803628,    375339,    186999,\n",
              "          489952,    250003,    650141,   1005373,     68365,    150136,\n",
              "           62333,   1040896,    174265,     89813,    300271,   1474547,\n",
              "          103889,    140082,    395447,    199734,   4599916,    195713,\n",
              "          455769,    669578,     71046,    813012,    388744,    154827,\n",
              "          138741,     61663,  13043708,    143433,   6799672,    130028,\n",
              "          170243,     97856,    184989,    179627,     95846,    126677,\n",
              "         1500016,    281504,    430300,     95175,     83111,    189680,\n",
              "           86462,    296920,    420246,    747997,    132709,     89143,\n",
              "          121985,     72387,   2516113,   5595906,    449737,  23458702,\n",
              "        36960190,    134720,      6032,    136731,  40214917,     87803,\n",
              "          229895,    599873,    500005,     58982,    109921,    239949,\n",
              "           76408,      5362,    152817,    221852,    195042,     74398,\n",
              "        14149619,    251343,     94505,   1699751,    124666,    253354,\n",
              "          334454,    750008,    949742,    133379,   1000011,    896793,\n",
              "          280164,      2681,      1340,   3510762,   7021525, 183888741,\n",
              "          122655,    457110,   6544978,   6018162,    219842,    400138,\n",
              "          900144,    160189,    146114,    131369,   6500741,    295580,\n",
              "          152146,    113272,    264748,    158179,    123326,    112602,\n",
              "          162870,    520113,    319709,    225204,    164881,    575073,\n",
              "          132039,     98527])"
            ]
          },
          "metadata": {
            "tags": []
          },
          "execution_count": 103
        }
      ]
    },
    {
      "cell_type": "code",
      "metadata": {
        "id": "xaC6MCMtjLAx",
        "colab_type": "code",
        "outputId": "f6886f4b-2bb8-4472-fd58-dd3f5a1b1a58",
        "colab": {
          "base_uri": "https://localhost:8080/",
          "height": 212
        }
      },
      "source": [
        "#quanto de cada valor aparece no gráfico\n",
        "df.price.value_counts()"
      ],
      "execution_count": 104,
      "outputs": [
        {
          "output_type": "execute_result",
          "data": {
            "text/plain": [
              "30161       898\n",
              "20107       838\n",
              "14745       760\n",
              "24799       753\n",
              "40215       732\n",
              "           ... \n",
              "270110        1\n",
              "130698        1\n",
              "179627        1\n",
              "132709        1\n",
              "14149619      1\n",
              "Name: price, Length: 302, dtype: int64"
            ]
          },
          "metadata": {
            "tags": []
          },
          "execution_count": 104
        }
      ]
    },
    {
      "cell_type": "markdown",
      "metadata": {
        "id": "i0ew6iTp2Hwm",
        "colab_type": "text"
      },
      "source": [
        "### Q7. Histograma sem os outliers\n",
        "\n",
        "Já que identificamos outliers nas variáveis price e minimum_nights, vamos agora limpar o DataFrame delas e plotar novamente o histograma.\n",
        "\n",
        "**Utilizarei apenas da tabela minimum_nights** uma vez que não consegui compreender ainda os valores contidos em price\n",
        "\n"
      ]
    },
    {
      "cell_type": "code",
      "metadata": {
        "id": "PFnN7vNf-t6D",
        "colab_type": "code",
        "colab": {}
      },
      "source": [
        "sns.set_style('darkgrid',{'axes.edgecolor': '.9'},)\n",
        "f, ax = plt.subplots(2,3,figsize = (20,10))\n",
        "plt.rcParams[\"patch.force_edgecolor\"] = True\n",
        "\n",
        "vis1 = sns.distplot(df[\"calculated_host_listings_count\"],bins=15,color='#762EA6', hist_kws=dict(edgecolor=\"white\",linewidth=2.5),ax= ax[0][0])\n",
        "vis2 = sns.distplot(df[\"minimum_nights\"],bins=15,color='#762EA6', hist_kws=dict(edgecolor=\"white\",linewidth=2.5),ax=ax[0][1])\n",
        "vis3 = sns.distplot(df[\"price\"],bins=15,color='#762EA6', hist_kws=dict(edgecolor=\"white\", linewidth=2.5),ax=ax[0][2])\n",
        "vis4 = sns.distplot(df[\"reviews_per_month\"],bins=15,color='#762EA6', hist_kws=dict(edgecolor=\"white\", linewidth=2.5), ax=ax[1][0])\n",
        "vis5 = sns.distplot(df[\"number_of_reviews\"],bins=15,color='#762EA6', hist_kws=dict(edgecolor=\"white\", linewidth=2.5),ax=ax[1][1])\n",
        "vis5 = sns.distplot(df[\"availability_365\"],bins=15,color='#762EA6', hist_kws=dict(edgecolor=\"white\", linewidth=2.5),ax=ax[1][2])"
      ],
      "execution_count": 0,
      "outputs": []
    },
    {
      "cell_type": "markdown",
      "metadata": {
        "id": "ywieiyfj1Mnb",
        "colab_type": "text"
      },
      "source": [
        "Observando as váriaveis de *review* podemos identificar que ambas tem semelhança. Uma vez que o número de review implica na quantidade de review por mês. \n",
        "\n",
        "Identificando isto, vamos trazer esses dois dados para gráficos isolados que nos faça ver melhor como estão dispostos. "
      ]
    },
    {
      "cell_type": "code",
      "metadata": {
        "id": "p8tmFP_2BN7M",
        "colab_type": "code",
        "colab": {}
      },
      "source": [
        "fig, ax = plt.subplots(ncols=2, nrows=1, figsize=(14,4))\n",
        "\n",
        "df['reviews_per_month'].plot(kind='hist', ax=ax[0], color='#762EA6', grid=False)\n",
        "ax[0].set_title('Histograma de reviews por mês')\n",
        "\n",
        "df['number_of_reviews'].plot(kind='hist', ax=ax[1], color='#762EA6', grid=False)\n",
        "ax[1].set_title('Histograma de número de review')\n",
        "\n",
        "sns.set(style='darkgrid')\n",
        "plt.tight_layout()"
      ],
      "execution_count": 0,
      "outputs": []
    },
    {
      "cell_type": "markdown",
      "metadata": {
        "id": "IXn2oIo5qx-w",
        "colab_type": "text"
      },
      "source": [
        "### Q8. Qual a correlação existente entre as variáveis\n",
        "\n",
        "Se dizemos que duas coisas são correlacionadas significa que existe uma relação entre essas duas coisas. No nosso contexto, estamos buscando relação ou semelhança entre duas variáveis.\n",
        "\n",
        "Essa relação pode ser medida, e é função do coeficiente de correlação estabelecer qual a intensidade dela. Para identificar as correlações existentes entre as variáveis de interesse, vamos:\n",
        "\n",
        "Criar uma matriz de correlação.\n",
        "Gerar um heatmap a partir dessa matriz, usando a biblioteca seaborn.\n",
        "Assim como para as análises feitas anteriormente, serão utilizadas somente as variáveis númericas calculated_host_listings_count, minimum_nights, price, reviews_per_month, number_of_reviews, availability_365."
      ]
    },
    {
      "cell_type": "code",
      "metadata": {
        "id": "3uFA-1moWAET",
        "colab_type": "code",
        "colab": {}
      },
      "source": [
        "df_clean = df.copy()\n"
      ],
      "execution_count": 0,
      "outputs": []
    },
    {
      "cell_type": "code",
      "metadata": {
        "id": "x2ayzBajqxyd",
        "colab_type": "code",
        "colab": {}
      },
      "source": [
        "# criar uma matriz de correlação\n",
        "corr = df_clean[['calculated_host_listings_count', 'minimum_nights', 'price', 'reviews_per_month', 'number_of_reviews', 'availability_365']].corr()\n",
        "# mostrar a matriz de correlação\n",
        "display(corr)"
      ],
      "execution_count": 0,
      "outputs": []
    },
    {
      "cell_type": "markdown",
      "metadata": {
        "id": "fHd84yHG2GS3",
        "colab_type": "text"
      },
      "source": [
        "Utilizando a tabela de correlações é possível tirar insights da relação entre as variáveis. Porém, o gráfico de heatmap nos apresenta os mesmos valores e com a possibilidade de analisar visualmente."
      ]
    },
    {
      "cell_type": "code",
      "metadata": {
        "id": "91UujDr6ueqE",
        "colab_type": "code",
        "colab": {}
      },
      "source": [
        "# plotar um heatmap a partir das correlações\n",
        "sns.heatmap(corr, cmap='RdBu', fmt='.2f', square=True, linecolor='white', annot=True);"
      ],
      "execution_count": 0,
      "outputs": []
    },
    {
      "cell_type": "markdown",
      "metadata": {
        "id": "7b6RMWpuHKN-",
        "colab_type": "text"
      },
      "source": [
        "### **Q9. Qual o tipo de imóvel mais alugado no Airbnb?**\n",
        "\n",
        "A coluna da variável room_type indica o tipo de locação que está anunciada no Airbnb. Se você já alugou no site, sabe que existem opções de apartamentos/casas inteiras, apenas o aluguel de um quarto ou mesmo dividir o quarto com outras pessoas.\n",
        "\n",
        "Vamos contar a quantidade de ocorrências de cada tipo de aluguel, usando o método value_counts()."
      ]
    },
    {
      "cell_type": "code",
      "metadata": {
        "id": "ueLPNWvPHgfB",
        "colab_type": "code",
        "colab": {}
      },
      "source": [
        "# mostrar a quantidade de cada tipo de imóvel disponível\n",
        "df_clean.room_type.value_counts()"
      ],
      "execution_count": 0,
      "outputs": []
    },
    {
      "cell_type": "code",
      "metadata": {
        "id": "EvwoO-XAHhIm",
        "colab_type": "code",
        "colab": {}
      },
      "source": [
        "# mostrar a porcentagem de cada tipo de imóvel disponível\n",
        "df_clean.room_type.value_counts() / df_clean.shape[0]"
      ],
      "execution_count": 0,
      "outputs": []
    },
    {
      "cell_type": "markdown",
      "metadata": {
        "id": "6_X9a9SPT4zd",
        "colab_type": "text"
      },
      "source": [
        "Aproximadamente **56% dos imóveis disponíveis no Airbnb no Chile** são apartamentos/casas inteiras. Enquanto isso **quartos de hoteis** anúnciados no Airbnb são pouco mais de 41%.\n"
      ]
    },
    {
      "cell_type": "markdown",
      "metadata": {
        "id": "MFa5NbnLJMcd",
        "colab_type": "text"
      },
      "source": [
        "### **Q10. Qual a localidade mais cara do dataset?**\n",
        "\n"
      ]
    },
    {
      "cell_type": "code",
      "metadata": {
        "id": "MD_xa143JZpi",
        "colab_type": "code",
        "colab": {}
      },
      "source": [
        "# ver preços por bairros, na média\n",
        "df_clean.groupby(['neighbourhood']).price.mean().sort_values(ascending=False)[:10]"
      ],
      "execution_count": 0,
      "outputs": []
    },
    {
      "cell_type": "code",
      "metadata": {
        "id": "8JF_oz9CZ8cD",
        "colab_type": "code",
        "colab": {}
      },
      "source": [
        "# ver quantidade de imóveis em Conchalí\n",
        "print(df[df.neighbourhood == \"Conchalí\"].shape)\n",
        "\n",
        "# ver as 16 entradas da região Conchalí\n",
        "df[df.neighbourhood == \"Conchalí\"]"
      ],
      "execution_count": 0,
      "outputs": []
    },
    {
      "cell_type": "markdown",
      "metadata": {
        "id": "8zGxE6iScIrL",
        "colab_type": "text"
      },
      "source": [
        "Ao analisar os 16 dados encontrados para a região com valor mais alto em Santiago me deparo com a *Casa de Mamá Confortable* que tem **valor de diária igual a: 5595906.** Sendo este dado responsável por esta região ter % mais cara do Chile."
      ]
    },
    {
      "cell_type": "code",
      "metadata": {
        "id": "fqdOsauDcDbh",
        "colab_type": "code",
        "colab": {}
      },
      "source": [
        "#visualizando Price mais caro das 16 entradas obtidas da região Conchalí\n",
        "df_clean[df_clean['price'] == 5595906]"
      ],
      "execution_count": 0,
      "outputs": []
    },
    {
      "cell_type": "markdown",
      "metadata": {
        "id": "IPrMKrA96lXu",
        "colab_type": "text"
      },
      "source": [
        "#Representações gráficas\n",
        "\n",
        "Abaixo irei postar alguns gráficos para que possomas ter uma melhor visualização de nosso DataSet.\n",
        "\n"
      ]
    },
    {
      "cell_type": "code",
      "metadata": {
        "id": "UxVJqJ_3W59I",
        "colab_type": "code",
        "colab": {}
      },
      "source": [
        "# plotar os imóveis pela latitude-longitude\n",
        "df_clean.plot(kind=\"scatter\", x='longitude', y='latitude', alpha=0.4, c=df_clean['price'], s=8,\n",
        "              cmap=plt.get_cmap('jet'), figsize=(12,8));"
      ],
      "execution_count": 0,
      "outputs": []
    },
    {
      "cell_type": "markdown",
      "metadata": {
        "id": "LIxxtry48Ebf",
        "colab_type": "text"
      },
      "source": [
        "O gráfico abaixo "
      ]
    },
    {
      "cell_type": "code",
      "metadata": {
        "id": "I9SrrzA16aDw",
        "colab_type": "code",
        "colab": {}
      },
      "source": [
        "fig, ax = plt.subplots(figsize=(10,6));\n",
        "\n",
        "sns.distplot(df.availability_365, ax=ax , color='#762EA6')\n",
        "ax.set_xlabel(\"IMÓVEIS DISPONÍVEIS\")\n",
        "ax.set_ylabel(\"VALOR\")\n",
        "sns.set_style(\"darkgrid\", {\"axes.facecolor\": \"1\"})\n",
        "plt.grid(False)\n",
        "plt.tight_layout();"
      ],
      "execution_count": 0,
      "outputs": []
    },
    {
      "cell_type": "markdown",
      "metadata": {
        "id": "GkvAg623RjoR",
        "colab_type": "text"
      },
      "source": [
        "## Conclusões\n"
      ]
    },
    {
      "cell_type": "markdown",
      "metadata": {
        "id": "rbZ3Hsy9Ypw8",
        "colab_type": "text"
      },
      "source": [
        "Neste Dataset foram observadas 15.790 variáveis em 16 entradas sobre Santiago - Chile.\n",
        "Tendo como exemplo de valores ausentes a tabela: *neighbourhood_group* que possui 100% de seus valores ausentes.\n",
        "\n",
        "Dada esta observação notei em seguida a presença de tabelas que são outliers o que acarreta na não distribuição correta dos dados plotados no gráfico.\n",
        "\n",
        "Aproximadamente 56% dos imóveis disponíveis no Airbnb no Chile são apartamentos/casas inteiras. Enquanto isso quartos de hoteis anúnciados no Airbnb são pouco mais de 41%.\n",
        "\n",
        "Sendo a localidade mais cara identificada com a Conchalí.\n",
        "\n",
        "<center><img alt=\"Analisando Airbnb\" width=\"40%\" src=\"https://upload.wikimedia.org/wikipedia/commons/thumb/6/6e/Comuna_de_Conchal%C3%AD.svg/250px-Comuna_de_Conchal%C3%AD.svg.png\"></center>\n",
        "\n",
        "Ao analisar os 16 dados encontrados para a região com valor mais alto em Santiago me deparo com a *Casa de Mamá Confortable* que tem **valor de diária igual a: 5595906.** Sendo este dado responsável por esta região ter % mais cara do Chile.\n",
        "\n",
        "Sendo esta a primeira versão deste estudo pretendo voltar e continuar analisando os dados.\n",
        "\n",
        "<center> Gabriel Augusto Machado "
      ]
    }
  ]
}